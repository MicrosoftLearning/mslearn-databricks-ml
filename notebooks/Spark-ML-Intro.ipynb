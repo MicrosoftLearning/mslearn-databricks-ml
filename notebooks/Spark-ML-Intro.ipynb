{
 "cells": [
  {
   "cell_type": "markdown",
   "metadata": {
    "application/vnd.databricks.v1+cell": {
     "cellMetadata": {},
     "inputWidgets": {},
     "nuid": "4ff09c67-f528-4218-8c88-bf5f7dafcfe7",
     "showTitle": false,
     "title": ""
    }
   },
   "source": [
    "# Penguin Classification\n",
    "\n",
    "*Can you train a machine learning model to pick out a penguin?*\n",
    "\n",
    "In this notebook, you'll explore the basics of using the Apache Spark SQL and MLLib libraries in Azure Databricks to train and test a machine learning model. The scenario for this notebook is based on observations of penguins in Antartica, with the goal of trainign a machine learning model to predict the species of an observed penguin based on its location and body measurements.\n",
    "\n",
    "> **Citation**: The penguins dataset used in the this exercise is a subset of data collected and made available by [Dr. Kristen\n",
    "Gorman](https://www.uaf.edu/cfos/people/faculty/detail/kristen-gorman.php)\n",
    "and the [Palmer Station, Antarctica LTER](https://pal.lternet.edu/), a\n",
    "member of the [Long Term Ecological Research\n",
    "Network](https://lternet.edu/).\n",
    "\n",
    "## Ingest data\n",
    "\n",
    "Run the following cell to ingest the data file you will use in this exercise. The data file will be saved in the DBFS storage for your Azure Databricks cluster."
   ]
  },
  {
   "cell_type": "code",
   "execution_count": null,
   "metadata": {
    "application/vnd.databricks.v1+cell": {
     "cellMetadata": {
      "byteLimit": 2048000,
      "rowLimit": 10000
     },
     "inputWidgets": {},
     "nuid": "73754b72-eee6-40da-874c-447d9660eddb",
     "showTitle": false,
     "title": ""
    }
   },
   "outputs": [],
   "source": [
    "%sh\n",
    "rm -r /dbfs/data\n",
    "mkdir /dbfs/data\n",
    "wget -O /dbfs/data/penguins.csv https://raw.githubusercontent.com/MicrosoftLearning/mslearn-databricks-ml/master/data/penguins.csv"
   ]
  },
  {
   "cell_type": "markdown",
   "metadata": {
    "application/vnd.databricks.v1+cell": {
     "cellMetadata": {},
     "inputWidgets": {},
     "nuid": "87c4f56a-317d-4ed7-965e-c8dcf54b3694",
     "showTitle": false,
     "title": ""
    }
   },
   "source": [
    "## Explore and clean up the data\n",
    "  \n",
    "Now that you've uploaded the data file, you can run the code in the following cell to load it into a dataframe and view it"
   ]
  },
  {
   "cell_type": "code",
   "execution_count": null,
   "metadata": {
    "application/vnd.databricks.v1+cell": {
     "cellMetadata": {
      "byteLimit": 2048000,
      "rowLimit": 10000
     },
     "inputWidgets": {},
     "nuid": "0bfcbede-e17e-4b89-bb3a-668f3c67624d",
     "showTitle": false,
     "title": ""
    },
    "cellStatus": "{\"Graeme Malcolm\":{\"queued_time\":\"2023-02-24T23:02:06.3408528Z\",\"session_start_time\":\"2023-02-24T23:02:06.5944585Z\",\"execution_start_time\":\"2023-02-24T23:02:19.5513723Z\",\"execution_finish_time\":\"2023-02-24T23:02:24.6193084Z\",\"state\":\"finished\",\"livy_statement_state\":\"available\"}}",
    "collapsed": false,
    "jupyter": {
     "outputs_hidden": false,
     "source_hidden": false
    },
    "nteract": {
     "transient": {
      "deleting": false
     }
    }
   },
   "outputs": [],
   "source": [
    "df = spark.read.format(\"csv\").option(\"header\", \"true\").load(\"/data/penguins.csv\")\n",
    "display(df)"
   ]
  },
  {
   "cell_type": "markdown",
   "metadata": {
    "application/vnd.databricks.v1+cell": {
     "cellMetadata": {},
     "inputWidgets": {},
     "nuid": "b8bf6c33-a822-46e5-b4b7-d98873048b25",
     "showTitle": false,
     "title": ""
    }
   },
   "source": [
    "The code initiates the necessary *Spark Jobs* to load the data, and the output is a *pyspark.sql.dataframe.DataFrame* object named *df*. You'll see this information displayed directly under the code, and you can use the **&#9656;** toggle to expand the **df: pyspark.sql.dataframe.DataFrame** output and see details of the columns it contains and their data types. Since this data was loaded from a text file and contained some blank values, Spark has assigned a **string** data type to all of the columns.\n",
    "\n",
    "The data itself consists of measurements of the following details of penguins that have been observed in Antartica:\n",
    "\n",
    "- **Island**: The island in Antartica where the penguin was observed.\n",
    "- **CulmenLength**: The length in mm of the penguin's culmen (bill).\n",
    "- **CulmenDepth**: The depth in mm of the penguin's culmen.\n",
    "- **FlipperLength**: The length in mm of the penguin's flipper.\n",
    "- **BodyMass**: The body mass of the penguin in grams.\n",
    "- **Species**: An integer value that represents the species of the penguin:\n",
    "  - **0**: *Adelie*\n",
    "  - **1**: *Gentoo*\n",
    "  - **2**: *Chinstrap*\n",
    "  \n",
    "Our goal in this project is to use the observed charateristics of a pengun (its *features*) in order to predict its species (which in machine learning terminology, we call the *label*).\n",
    "  \n",
    "Note that some observations contain *null* or \"missing\" data values for some features. It's not uncommon for the raw source data you ingest to have issues like this, so typically the first stage in a machine learning project is to explore the data thoroughly and clean it up to make it more suitable for training a machine learning model.\n",
    "\n",
    "A *dataframe* is a useful structure for performing this kind of data preparation work in Spark. For example, run the following cell to remove the rows with incomplete data by using the **dropna** method, and to apply appropriate data types to the data by using the **select** method with the **col** and **astype** functions.\n",
    "\n",
    "> **Tip**: You can learn more about methods and functions you can use with dataframes in the [Spark SQL reference](https://spark.apache.org/docs/latest/sql-programming-guide.html)."
   ]
  },
  {
   "cell_type": "code",
   "execution_count": null,
   "metadata": {
    "application/vnd.databricks.v1+cell": {
     "cellMetadata": {
      "byteLimit": 2048000,
      "rowLimit": 10000
     },
     "inputWidgets": {},
     "nuid": "e0a55ad1-4aae-44d6-a1ea-e6802901ae91",
     "showTitle": false,
     "title": ""
    },
    "cellStatus": "{\"Graeme Malcolm\":{\"queued_time\":\"2023-02-25T00:34:11.6170438Z\",\"session_start_time\":null,\"execution_start_time\":\"2023-02-25T00:34:12.0692886Z\",\"execution_finish_time\":\"2023-02-25T00:34:13.2233842Z\",\"state\":\"finished\",\"livy_statement_state\":\"available\"}}",
    "collapsed": false,
    "jupyter": {
     "outputs_hidden": false,
     "source_hidden": false
    },
    "nteract": {
     "transient": {
      "deleting": false
     }
    }
   },
   "outputs": [],
   "source": [
    "from pyspark.sql.types import *\n",
    "from pyspark.sql.functions import *\n",
    "\n",
    "data = df.dropna().select(col(\"Island\").astype(\"string\"),\n",
    "                          col(\"CulmenLength\").astype(\"float\"),\n",
    "                          col(\"CulmenDepth\").astype(\"float\"),\n",
    "                          col(\"FlipperLength\").astype(\"float\"),\n",
    "                          col(\"BodyMass\").astype(\"float\"),\n",
    "                          col(\"Species\").astype(\"int\")\n",
    "                          )\n",
    "display(data)"
   ]
  },
  {
   "cell_type": "markdown",
   "metadata": {
    "application/vnd.databricks.v1+cell": {
     "cellMetadata": {},
     "inputWidgets": {},
     "nuid": "287e05a4-1ade-4e7e-8f97-6bc76346b3c5",
     "showTitle": false,
     "title": ""
    }
   },
   "source": [
    "Once again, you can toggle the details of the dataframe that is returned (this time named *data*) to verify that the data types have been applied, and you can review the data to verify that the rows containing incomplete data have been removed.\n",
    "\n",
    "In a real project, you'd likely need to perform more exploration and data cleansing to fix (or remove) errors in the data, identify and remove outliers (non-tyically large or small values), or to balance the data so there's a reasonably equal number of rows for each label you're trying to predict.\n",
    "\n",
    "## Split the data\n",
    "\n",
    "For the purposes of this exercise, we'll assume that the data is now suitable cleaned and ready for us to use to train a machine learning model. The label we're going to try to predict is a specific category or *class* (the species of a penguin), so the type of machine learning model we need to train is a *classification* model. Classification (along with *regression*, which is used to predict a numeric value) is a form or *supervised* machine learning in which we use training data that includes known values for the label we want to predict. The process of training a model is really just fitting an algorithm to the data in order to calculate how the feature values correlate to the known label value. We can then apply the trained model to a new observation for which we know the only the feature values and have it predict the label value.\n",
    "\n",
    "To ensure we can have confidence in our trained model, the typical approach is to train the model with only *some* of the data, and hold back some data with known label values that we can use to test the trained model and see how accurately its predictions are. To accomplish this goal, we'll split the full data set into two randomized subsets. We'll use 70% of the data for training, and hold back 30% for testing."
   ]
  },
  {
   "cell_type": "code",
   "execution_count": null,
   "metadata": {
    "application/vnd.databricks.v1+cell": {
     "cellMetadata": {
      "byteLimit": 2048000,
      "rowLimit": 10000
     },
     "inputWidgets": {},
     "nuid": "ca61de9c-22ff-439e-8396-d4030695a14c",
     "showTitle": false,
     "title": ""
    },
    "cellStatus": "{\"Graeme Malcolm\":{\"queued_time\":\"2023-02-25T00:34:19.6194546Z\",\"session_start_time\":null,\"execution_start_time\":\"2023-02-25T00:34:20.0037718Z\",\"execution_finish_time\":\"2023-02-25T00:34:21.2166579Z\",\"state\":\"finished\",\"livy_statement_state\":\"available\"}}",
    "jupyter": {
     "outputs_hidden": false,
     "source_hidden": false
    },
    "nteract": {
     "transient": {
      "deleting": false
     }
    }
   },
   "outputs": [],
   "source": [
    "splits = data.randomSplit([0.7, 0.3])\n",
    "train = splits[0]\n",
    "test = splits[1]\n",
    "print (\"Training Rows:\", train.count(), \" Testing Rows:\", test.count())"
   ]
  },
  {
   "cell_type": "markdown",
   "metadata": {
    "application/vnd.databricks.v1+cell": {
     "cellMetadata": {},
     "inputWidgets": {},
     "nuid": "93218b81-df27-4e5e-b1f9-7cd2e010dc37",
     "showTitle": false,
     "title": ""
    }
   },
   "source": [
    "## Perform feature engineering\n",
    "\n",
    "Having cleansed the raw data, a data scientists typically performs some additional work to prepare it for model training. This process is commonly known as *feature engineering*, and involves iteratively optimizing the features in the training dataset to produce the best possible model. The specific feature modifications required depends on the data and the desired model, but there are some common feature engineering tasks you should become familiar with.\n",
    "\n",
    "### Encode categorical features\n",
    "\n",
    "Machine learning algorithms are usually based on finding mathematical relationships between features and labels. That means that its usually best to define the features in your training data as *numeric* values. In some cases, you may have some features that are *categorical* rather than numeric, and which are expressed as strings - for example, the name of the island where the penguin observation occured in our dataset. However, most algorithms expect numeric features; so these string-based categorical values need to be *encoded* as numbers. In this case, we'll use a **StringIndexer** from the **Spark MLLib** library to encode the island name as a numeric value by assigning a unique interger index for each discrete island name.\n",
    "\n",
    "Run the following cell to see how the **Island** categorical column values will be encoded in our training data."
   ]
  },
  {
   "cell_type": "code",
   "execution_count": null,
   "metadata": {
    "application/vnd.databricks.v1+cell": {
     "cellMetadata": {
      "byteLimit": 2048000,
      "rowLimit": 10000
     },
     "inputWidgets": {},
     "nuid": "9ed0e1f6-1c36-4a79-b4c6-1b2fdf74ae0f",
     "showTitle": false,
     "title": ""
    }
   },
   "outputs": [],
   "source": [
    "from pyspark.ml.feature import StringIndexer\n",
    "\n",
    "indexer = StringIndexer(inputCol=\"Island\", outputCol=\"IslandIdx\")\n",
    "indexedData = indexer.fit(train).transform(train).drop(\"Island\")\n",
    "display(indexedData)"
   ]
  },
  {
   "cell_type": "markdown",
   "metadata": {
    "application/vnd.databricks.v1+cell": {
     "cellMetadata": {},
     "inputWidgets": {},
     "nuid": "4b65bbb7-5882-4d39-af99-86c62ffb1c22",
     "showTitle": false,
     "title": ""
    }
   },
   "source": [
    "In the results, you should see that instead of an island name, each row now has an **IslandIdx** column with an integer value representing the island on which the observation was recorded.\n",
    "\n",
    "### Normalize (scale) numeric features\n",
    "\n",
    "Now let's turn our attention to the numeric values in our data. These values (**CulmenLength**, **CulmenDepth**, **FlipperLength**, and **BodyMass**) all represent measurements of one sort or another, but they're in different scales. When training a model, the units of measurement aren't as important as the relative differences across different observations, and features that are represented by larger numbers can often dominate the model training algorithm - skewing the importance of the feature when calculating a prediction. To mitigate this, it's common to *normalize* the numeric feature values so they're all on the same relative scale (for example, a decimal value between 0.0 and 1.0).\n",
    "\n",
    "The code we'll use to do this is a little more involved than the categorical encoding we did previously. We need to scale multiple column values at the same time, so the technique we use is to create a single column containing a *vector* (essentially an array) of all the numeric features, and then apply a scaler to produce a new vector column with the equivalent normalized values.\n",
    "\n",
    "Run the cell below to normalize the numeric features and see a comparison of the pre-normlized and normalized vector columns."
   ]
  },
  {
   "cell_type": "code",
   "execution_count": null,
   "metadata": {
    "application/vnd.databricks.v1+cell": {
     "cellMetadata": {
      "byteLimit": 2048000,
      "rowLimit": 10000
     },
     "inputWidgets": {},
     "nuid": "d5ece410-b5a8-4c40-ab9c-def90ae9ab13",
     "showTitle": false,
     "title": ""
    }
   },
   "outputs": [],
   "source": [
    "from pyspark.ml.feature import VectorAssembler, MinMaxScaler\n",
    "\n",
    "#Create a vector column containing all numeric features\n",
    "numericFeatures = [\"CulmenLength\", \"CulmenDepth\", \"FlipperLength\", \"BodyMass\"]\n",
    "numericColVector = VectorAssembler(inputCols=numericFeatures, outputCol=\"numericFeatures\")\n",
    "vectorizedData = numericColVector.transform(indexedData)\n",
    "\n",
    "#Use a MinMax scaler to normalize the numeric values in the vector\n",
    "minMax = MinMaxScaler(inputCol = numericColVector.getOutputCol(), outputCol=\"normalizedFeatures\")\n",
    "scaledData = minMax.fit(vectorizedData).transform(vectorizedData)\n",
    "\n",
    "# Display the data with numeric feature vectors (before and after scaling)\n",
    "compareNumerics = scaledData.select(\"numericFeatures\", \"normalizedFeatures\")\n",
    "display(compareNumerics)"
   ]
  },
  {
   "cell_type": "markdown",
   "metadata": {
    "application/vnd.databricks.v1+cell": {
     "cellMetadata": {},
     "inputWidgets": {},
     "nuid": "7c3dd320-443d-4ede-a8da-0c6184019e9b",
     "showTitle": false,
     "title": ""
    }
   },
   "source": [
    "The **numericFeatures** column in the results contains a vector for each row. The vector includes four unscaled numeric values (the original measurements of the penguin). You can use the **&#9656;** toggle to see the discrete values more clearly.\n",
    "\n",
    "The **normalizedFeatures** column also contains a vector for each penguin observation, but this time the values in the vector are normalized to a relative scale based on the minimum and maximum values for each measurement.\n",
    "\n",
    "### Prepare features and labels for training\n",
    "\n",
    "Now, let's bring everything together and create a single column containing all of the feaures (the encoded categorical island name and the normalized penguin measurements), and another column containing the class label we want to train a model to predict (the penguin species)."
   ]
  },
  {
   "cell_type": "code",
   "execution_count": null,
   "metadata": {
    "application/vnd.databricks.v1+cell": {
     "cellMetadata": {
      "byteLimit": 2048000,
      "rowLimit": 10000
     },
     "inputWidgets": {},
     "nuid": "ac711bf9-6b7e-4d44-8911-d67fb12e9e06",
     "showTitle": false,
     "title": ""
    },
    "cellStatus": "{\"Graeme Malcolm\":{\"queued_time\":\"2023-02-25T00:34:17.2409182Z\",\"session_start_time\":null,\"execution_start_time\":\"2023-02-25T00:34:17.6716622Z\",\"execution_finish_time\":\"2023-02-25T00:34:18.1311059Z\",\"state\":\"finished\",\"livy_statement_state\":\"available\"}}"
   },
   "outputs": [],
   "source": [
    "featVect = VectorAssembler(inputCols=[\"IslandIdx\", \"normalizedFeatures\"], outputCol=\"featuresVector\")\n",
    "preppedData = featVect.transform(scaledData)[col(\"featuresVector\").alias(\"features\"), col(\"Species\").alias(\"label\")]\n",
    "display(preppedData)"
   ]
  },
  {
   "cell_type": "markdown",
   "metadata": {
    "application/vnd.databricks.v1+cell": {
     "cellMetadata": {},
     "inputWidgets": {},
     "nuid": "c891ab80-966a-4edb-b969-d603e4d5fb9f",
     "showTitle": false,
     "title": ""
    }
   },
   "source": [
    "The **features** vector contains five values (the encoded island and the normalized culmen length, culmen depth, flipper length, and body mass). The label contains a sinple integer code that indicates the class of penguin species.\n",
    "\n",
    "## Train a machine learning model\n",
    "\n",
    "Now that the training data is prepared, you can use it to train a model. Models are trained using an *algorithm* that tries to establish a relationship between the features and labels. Since in this case you want to train a model that predicts a category of *class* , you need to use a *classification* algorthm. There are many algorithms for classification - let's start with a well-establish one: logistic regression, which iteratively attempts to find the optimal coefficients that can be applied to the features data in a logistic calculation that predicts the probability for each class label value. To train the model, you will fit the logistic regression algorithm to the training data."
   ]
  },
  {
   "cell_type": "code",
   "execution_count": null,
   "metadata": {
    "application/vnd.databricks.v1+cell": {
     "cellMetadata": {
      "byteLimit": 2048000,
      "rowLimit": 10000
     },
     "inputWidgets": {},
     "nuid": "695e4939-65d4-4e17-a751-93180254898e",
     "showTitle": false,
     "title": ""
    },
    "cellStatus": "{\"Graeme Malcolm\":{\"queued_time\":\"2023-02-25T00:33:40.0381822Z\",\"session_start_time\":null,\"execution_start_time\":\"2023-02-25T00:33:40.4880617Z\",\"execution_finish_time\":\"2023-02-25T00:33:40.9134828Z\",\"state\":\"finished\",\"livy_statement_state\":\"available\"}}",
    "jupyter": {
     "outputs_hidden": false,
     "source_hidden": false
    },
    "nteract": {
     "transient": {
      "deleting": false
     }
    }
   },
   "outputs": [],
   "source": [
    "from pyspark.ml.classification import LogisticRegression\n",
    "\n",
    "lr = LogisticRegression(labelCol=\"label\", featuresCol=\"features\", maxIter=10, regParam=0.3)\n",
    "model = lr.fit(preppedData)\n",
    "print (\"Model trained!\")"
   ]
  },
  {
   "cell_type": "markdown",
   "metadata": {
    "application/vnd.databricks.v1+cell": {
     "cellMetadata": {},
     "inputWidgets": {},
     "nuid": "80fe2a40-7c86-4782-be4a-2b6663160274",
     "showTitle": false,
     "title": ""
    }
   },
   "source": [
    "Most algorithms support parameters that give you some control over the way the model is trained. In this case, the logistic regression algorithm require you to identify the column containing the features vector and the column containing the known label; and also enables you to specify the maximum number of iterations performed to find optimal coeficients for the logistic calculation, and a regularization parameter that is used to prevent the model from *overfitting* (in other words, establishing a logistic calculation that works well with the training data, but which doesn't generalize well when applied to new data).\n",
    "\n",
    "## Test the model\n",
    "\n",
    "Now that you have a trained model, you can test it with the data you held back. Before you can do this, you need to perform the same feature engineering transformations to the test data as you applied to the training data (in this case, encode the island name and normalize the measurements)."
   ]
  },
  {
   "cell_type": "code",
   "execution_count": null,
   "metadata": {
    "application/vnd.databricks.v1+cell": {
     "cellMetadata": {
      "byteLimit": 2048000,
      "rowLimit": 10000
     },
     "inputWidgets": {},
     "nuid": "0730520e-f67e-4a8f-922c-264d5111265d",
     "showTitle": false,
     "title": ""
    }
   },
   "outputs": [],
   "source": [
    "indexedTestData = indexer.fit(test).transform(test).drop(\"Island\")\n",
    "vectorizedTestData = numericColVector.transform(indexedTestData)\n",
    "scaledTestData = minMax.fit(vectorizedTestData).transform(vectorizedTestData)\n",
    "preppedTestData = featVect.transform(scaledTestData)[col(\"featuresVector\").alias(\"features\"), col(\"Species\").alias(\"label\")]\n",
    "display(preppedTestData)"
   ]
  },
  {
   "cell_type": "markdown",
   "metadata": {
    "application/vnd.databricks.v1+cell": {
     "cellMetadata": {},
     "inputWidgets": {},
     "nuid": "64d57418-7eb4-402d-88b6-973fb15f3b55",
     "showTitle": false,
     "title": ""
    }
   },
   "source": [
    "Now you have test data in the appropriate format for the trained model. You can use the feature vectors in the test data to generate predicted class labels, and compare them to the known (true) labels to evaluate how well the model performs."
   ]
  },
  {
   "cell_type": "code",
   "execution_count": null,
   "metadata": {
    "application/vnd.databricks.v1+cell": {
     "cellMetadata": {
      "byteLimit": 2048000,
      "rowLimit": 10000
     },
     "inputWidgets": {},
     "nuid": "8fed4c5c-8ec7-4275-be5a-f660b80a2c3b",
     "showTitle": false,
     "title": ""
    },
    "cellStatus": "{\"Graeme Malcolm\":{\"queued_time\":\"2023-02-25T00:35:46.2796783Z\",\"session_start_time\":null,\"execution_start_time\":\"2023-02-25T00:35:46.7213758Z\",\"execution_finish_time\":\"2023-02-25T00:35:47.9168181Z\",\"state\":\"finished\",\"livy_statement_state\":\"available\"}}",
    "collapsed": false,
    "jupyter": {
     "outputs_hidden": false,
     "source_hidden": false
    },
    "nteract": {
     "transient": {
      "deleting": false
     }
    }
   },
   "outputs": [],
   "source": [
    "prediction = model.transform(preppedTestData)\n",
    "predicted = prediction.select(\"features\", \"probability\", col(\"prediction\").astype(\"Int\"), col(\"label\").alias(\"trueLabel\"))\n",
    "display(predicted)"
   ]
  },
  {
   "cell_type": "markdown",
   "metadata": {
    "application/vnd.databricks.v1+cell": {
     "cellMetadata": {},
     "inputWidgets": {},
     "nuid": "66ccbc35-c449-45b4-9bc1-e1fe8162df8a",
     "showTitle": false,
     "title": ""
    }
   },
   "source": [
    "The results of the previous cell include the following columns:\n",
    "\n",
    "- **features**: The prepared features data from the test dataset.\n",
    "- **probability**: The probability calculated by the model for each class. This consists of a vector containing three probability values (because there are three classes) which add up to a total of 1.0 (its assumed that there's a 100% probability that the penguin belongs to *one* of the three species classes).\n",
    "- **prediction**: The predicted class label (the one with the highest probability).\n",
    "- **trueLabel**: The actual known label value from the test data.\n",
    "\n",
    "Tp evaluate the effectiveness of the model, you could simply compare the predicted and true labels in these results. However, you can get more meaningful metrics by using a model evaluator - in this case, a multiclass (because there are multiple possible class labels) classification evaluator."
   ]
  },
  {
   "cell_type": "code",
   "execution_count": null,
   "metadata": {
    "application/vnd.databricks.v1+cell": {
     "cellMetadata": {
      "byteLimit": 2048000,
      "rowLimit": 10000
     },
     "inputWidgets": {},
     "nuid": "a7d6b652-b8be-4c1a-96f7-84db3c6b1f90",
     "showTitle": false,
     "title": ""
    }
   },
   "outputs": [],
   "source": [
    "from pyspark.ml.evaluation import MulticlassClassificationEvaluator\n",
    "\n",
    "evaluator = MulticlassClassificationEvaluator(labelCol=\"label\", predictionCol=\"prediction\")\n",
    "\n",
    "# Simple accuracy\n",
    "accuracy = evaluator.evaluate(prediction, {evaluator.metricName:\"accuracy\"})\n",
    "print(\"Accuracy:\", accuracy)\n",
    "\n",
    "# Class metrics\n",
    "labels = [0,1,2]\n",
    "print(\"\\nIndividual class metrics:\")\n",
    "for label in sorted(labels):\n",
    "    print (\"Class %s\" % (label))\n",
    "\n",
    "    # Precision\n",
    "    precision = evaluator.evaluate(prediction, {evaluator.metricLabel:label,\n",
    "                                                    evaluator.metricName:\"precisionByLabel\"})\n",
    "    print(\"\\tPrecision:\", precision)\n",
    "\n",
    "    # Recall\n",
    "    recall = evaluator.evaluate(prediction, {evaluator.metricLabel:label,\n",
    "                                                 evaluator.metricName:\"recallByLabel\"})\n",
    "    print(\"\\tRecall:\", recall)\n",
    "\n",
    "    # F1 score\n",
    "    f1 = evaluator.evaluate(prediction, {evaluator.metricLabel:label,\n",
    "                                             evaluator.metricName:\"fMeasureByLabel\"})\n",
    "    print(\"\\tF1 Score:\", f1)\n",
    "\n",
    "# Weighed (overall) metrics\n",
    "overallPrecision = evaluator.evaluate(prediction, {evaluator.metricName:\"weightedPrecision\"})\n",
    "print(\"Overall Precision:\", overallPrecision)\n",
    "overallRecall = evaluator.evaluate(prediction, {evaluator.metricName:\"weightedRecall\"})\n",
    "print(\"Overall Recall:\", overallRecall)\n",
    "overallF1 = evaluator.evaluate(prediction, {evaluator.metricName:\"weightedFMeasure\"})\n",
    "print(\"Overall F1 Score:\", overallF1)"
   ]
  },
  {
   "cell_type": "markdown",
   "metadata": {
    "application/vnd.databricks.v1+cell": {
     "cellMetadata": {},
     "inputWidgets": {},
     "nuid": "f9c4c519-e0b3-46d4-a569-e43d12c13322",
     "showTitle": false,
     "title": ""
    }
   },
   "source": [
    "The evaluation metrics that are calculated for multiclass classification include:\n",
    "\n",
    "- **Accuracy**: The proportion of overall predictions that were correct.\n",
    "- Per-class metrics:\n",
    "  - **Precision**: The proportion of predictions of this class that were correct.\n",
    "  - **Recall**: The proportion of actual instances of this class that were correctly predicted.\n",
    "  - **F1 score**: A combined metric for precision and recall\n",
    "- Combined (weighted) precision, recall, and F1 metrics for all classes.\n",
    "\n",
    "> **Note**: It may initially seem like the overall accuracy metric provids the best way to evaluare a model's predictive performance. However, consider this. Suppose Gentoo penguins make up 95% of the penguin population in your study location. A model that always predicts the label **1** (the class for Gentoo) will have an accuracy of 0.95. That doesn't mean it's a great model for predicting a penguin species based on the features! That's why data scientists tend to explore additional metrics to get a better understanding of how well a classification model predicts for each possible class label.\n",
    "\n",
    "## Use a pipeline\n",
    "\n",
    "You trained your model by performing the required feature engineering steps and then fitting an algorithm to the data. To use the model with some test data to generate predictions (referred to as *inferencing*), you had to apply the same feature engineering steps to the test data. A more efficient way to build and use models is to encapsulate the transformers used to prepare the data and the model used to train it in a *pipeline*."
   ]
  },
  {
   "cell_type": "code",
   "execution_count": null,
   "metadata": {
    "application/vnd.databricks.v1+cell": {
     "cellMetadata": {
      "byteLimit": 2048000,
      "rowLimit": 10000
     },
     "inputWidgets": {},
     "nuid": "0b443c86-62ce-4058-9381-7310cdf45616",
     "showTitle": false,
     "title": ""
    }
   },
   "outputs": [],
   "source": [
    "from pyspark.ml import Pipeline\n",
    "from pyspark.ml.feature import StringIndexer, VectorAssembler, MinMaxScaler\n",
    "from pyspark.ml.classification import LogisticRegression\n",
    "\n",
    "catFeature = \"Island\"\n",
    "numFeatures = [\"CulmenLength\", \"CulmenDepth\", \"FlipperLength\", \"BodyMass\"]\n",
    "\n",
    "# Define the feature engineering and model steps\n",
    "catIndexer = StringIndexer(inputCol=catFeature, outputCol=catFeature + \"Idx\")\n",
    "numVector = VectorAssembler(inputCols=numFeatures, outputCol=\"numericFeatures\")\n",
    "numScaler = MinMaxScaler(inputCol = numVector.getOutputCol(), outputCol=\"normalizedFeatures\")\n",
    "featureVector = VectorAssembler(inputCols=[\"IslandIdx\", \"normalizedFeatures\"], outputCol=\"Features\")\n",
    "algo = LogisticRegression(labelCol=\"Species\", featuresCol=\"Features\", maxIter=10, regParam=0.3)\n",
    "\n",
    "# Chain the steps as stages in a pipeline\n",
    "pipeline = Pipeline(stages=[catIndexer, numVector, numScaler, featureVector, algo])\n",
    "\n",
    "# Use the pipeline to prepare data and fit the model algorithm\n",
    "model = pipeline.fit(train)\n",
    "print (\"Model trained!\")"
   ]
  },
  {
   "cell_type": "markdown",
   "metadata": {
    "application/vnd.databricks.v1+cell": {
     "cellMetadata": {},
     "inputWidgets": {},
     "nuid": "df4b7432-0e9a-45a0-a255-a7146ec558f8",
     "showTitle": false,
     "title": ""
    }
   },
   "source": [
    "Since the feature engineering steps are now encapsulated in the model trained by the pipeline, you can use the model with the test data without needing to apply each transformation (they'll be applied automatically by the model)."
   ]
  },
  {
   "cell_type": "code",
   "execution_count": null,
   "metadata": {
    "application/vnd.databricks.v1+cell": {
     "cellMetadata": {
      "byteLimit": 2048000,
      "rowLimit": 10000
     },
     "inputWidgets": {},
     "nuid": "f13cefcf-f22b-482f-bbfe-5faae5027f20",
     "showTitle": false,
     "title": ""
    }
   },
   "outputs": [],
   "source": [
    "prediction = model.transform(test)\n",
    "predicted = prediction.select(\"Features\", \"probability\", col(\"prediction\").astype(\"Int\"), col(\"Species\").alias(\"trueLabel\"))\n",
    "display(predicted)"
   ]
  },
  {
   "cell_type": "markdown",
   "metadata": {
    "application/vnd.databricks.v1+cell": {
     "cellMetadata": {},
     "inputWidgets": {},
     "nuid": "1f3065b6-315b-4ea3-afe0-1ac9b02541f1",
     "showTitle": false,
     "title": ""
    }
   },
   "source": [
    "## Try a different algorithm\n",
    "\n",
    "So far you've trained a classification model by using the logistic regression algorithm. Let's change that stage in the pipeline to try a different algorithm."
   ]
  },
  {
   "cell_type": "code",
   "execution_count": null,
   "metadata": {
    "application/vnd.databricks.v1+cell": {
     "cellMetadata": {
      "byteLimit": 2048000,
      "rowLimit": 10000
     },
     "inputWidgets": {},
     "nuid": "b3d43469-34b8-4c6f-aff6-ecac07655646",
     "showTitle": false,
     "title": ""
    }
   },
   "outputs": [],
   "source": [
    "from pyspark.ml import Pipeline\n",
    "from pyspark.ml.feature import StringIndexer, VectorAssembler, MinMaxScaler\n",
    "from pyspark.ml.classification import DecisionTreeClassifier\n",
    "\n",
    "catFeature = \"Island\"\n",
    "numFeatures = [\"CulmenLength\", \"CulmenDepth\", \"FlipperLength\", \"BodyMass\"]\n",
    "\n",
    "# Define the feature engineering and model steps\n",
    "catIndexer = StringIndexer(inputCol=catFeature, outputCol=catFeature + \"Idx\")\n",
    "numVector = VectorAssembler(inputCols=numFeatures, outputCol=\"numericFeatures\")\n",
    "numScaler = MinMaxScaler(inputCol = numVector.getOutputCol(), outputCol=\"normalizedFeatures\")\n",
    "featureVector = VectorAssembler(inputCols=[\"IslandIdx\", \"normalizedFeatures\"], outputCol=\"Features\")\n",
    "algo = DecisionTreeClassifier(labelCol=\"Species\", featuresCol=\"Features\", maxDepth=10)\n",
    "\n",
    "# Chain the steps as stages in a pipeline\n",
    "pipeline = Pipeline(stages=[catIndexer, numVector, numScaler, featureVector, algo])\n",
    "\n",
    "# Use the pipeline to prepare data and fit the model algorithm\n",
    "model = pipeline.fit(train)\n",
    "print (\"Model trained!\")"
   ]
  },
  {
   "cell_type": "markdown",
   "metadata": {
    "application/vnd.databricks.v1+cell": {
     "cellMetadata": {},
     "inputWidgets": {},
     "nuid": "e4466840-ac44-4875-b535-6aa5f871705c",
     "showTitle": false,
     "title": ""
    }
   },
   "source": [
    "This time, the pipeline includes the same feature preparation stages as before but uses a *Decision Tree* algorithm to train the model.\n",
    "\n",
    "Once again, you can use the trained model to inference predictions from the test data."
   ]
  },
  {
   "cell_type": "code",
   "execution_count": null,
   "metadata": {
    "application/vnd.databricks.v1+cell": {
     "cellMetadata": {
      "byteLimit": 2048000,
      "rowLimit": 10000
     },
     "inputWidgets": {},
     "nuid": "319836fc-7b38-4987-8edd-ce3a703df0fe",
     "showTitle": false,
     "title": ""
    }
   },
   "outputs": [],
   "source": [
    "prediction = model.transform(test)\n",
    "predicted = prediction.select(\"Features\", \"probability\", col(\"prediction\").astype(\"Int\"), col(\"Species\").alias(\"trueLabel\"))\n",
    "display(predicted)"
   ]
  },
  {
   "cell_type": "markdown",
   "metadata": {
    "application/vnd.databricks.v1+cell": {
     "cellMetadata": {},
     "inputWidgets": {},
     "nuid": "dd7f9657-aaac-45c0-8ea3-8ef644bd169d",
     "showTitle": false,
     "title": ""
    }
   },
   "source": [
    "Now let's evaluate the performance of the new model."
   ]
  },
  {
   "cell_type": "code",
   "execution_count": null,
   "metadata": {
    "application/vnd.databricks.v1+cell": {
     "cellMetadata": {
      "byteLimit": 2048000,
      "rowLimit": 10000
     },
     "inputWidgets": {},
     "nuid": "b23a98f8-1a0b-496e-9f83-fef44d49ac70",
     "showTitle": false,
     "title": ""
    }
   },
   "outputs": [],
   "source": [
    "from pyspark.ml.evaluation import MulticlassClassificationEvaluator\n",
    "\n",
    "evaluator = MulticlassClassificationEvaluator(labelCol=\"Species\", predictionCol=\"prediction\")\n",
    "\n",
    "# Simple accuracy\n",
    "accuracy = evaluator.evaluate(prediction, {evaluator.metricName:\"accuracy\"})\n",
    "print(\"Accuracy:\", accuracy)\n",
    "\n",
    "# Class metrics\n",
    "labels = [0,1,2]\n",
    "print(\"\\nIndividual class metrics:\")\n",
    "for label in sorted(labels):\n",
    "    print (\"Class %s\" % (label))\n",
    "\n",
    "    # Precision\n",
    "    precision = evaluator.evaluate(prediction, {evaluator.metricLabel:label,\n",
    "                                                    evaluator.metricName:\"precisionByLabel\"})\n",
    "    print(\"\\tPrecision:\", precision)\n",
    "\n",
    "    # Recall\n",
    "    recall = evaluator.evaluate(prediction, {evaluator.metricLabel:label,\n",
    "                                                 evaluator.metricName:\"recallByLabel\"})\n",
    "    print(\"\\tRecall:\", recall)\n",
    "\n",
    "    # F1 score\n",
    "    f1 = evaluator.evaluate(prediction, {evaluator.metricLabel:label,\n",
    "                                             evaluator.metricName:\"fMeasureByLabel\"})\n",
    "    print(\"\\tF1 Score:\", f1)\n",
    "\n",
    "# Weighed (overall) metrics\n",
    "overallPrecision = evaluator.evaluate(prediction, {evaluator.metricName:\"weightedPrecision\"})\n",
    "print(\"Overall Precision:\", overallPrecision)\n",
    "overallRecall = evaluator.evaluate(prediction, {evaluator.metricName:\"weightedRecall\"})\n",
    "print(\"Overall Recall:\", overallRecall)\n",
    "overallF1 = evaluator.evaluate(prediction, {evaluator.metricName:\"weightedFMeasure\"})\n",
    "print(\"Overall F1 Score:\", overallF1)\n"
   ]
  },
  {
   "cell_type": "markdown",
   "metadata": {
    "application/vnd.databricks.v1+cell": {
     "cellMetadata": {},
     "inputWidgets": {},
     "nuid": "7fe09074-24ca-4b29-a99c-e323b289fe40",
     "showTitle": false,
     "title": ""
    }
   },
   "source": [
    "It seems that the decision tree algorithm has resulted in model with slightly better predictive performance.\n",
    "\n",
    "## Save the model\n",
    "\n",
    "In reality, you'd iteratively try training the model with different algorithms (and parameters) to find the best model for your data. For now, we'll stick with the decision trees model we've trained. Let's save it so we can use it later with some new penguin observations."
   ]
  },
  {
   "cell_type": "code",
   "execution_count": null,
   "metadata": {
    "application/vnd.databricks.v1+cell": {
     "cellMetadata": {
      "byteLimit": 2048000,
      "rowLimit": 10000
     },
     "inputWidgets": {},
     "nuid": "4f937509-da29-4b2a-a8e9-f34dfb668d10",
     "showTitle": false,
     "title": ""
    }
   },
   "outputs": [],
   "source": [
    "model.save(\"/models/penguin.model\")"
   ]
  },
  {
   "cell_type": "markdown",
   "metadata": {
    "application/vnd.databricks.v1+cell": {
     "cellMetadata": {},
     "inputWidgets": {},
     "nuid": "8eccc583-8bf8-4321-8478-7960c4237594",
     "showTitle": false,
     "title": ""
    }
   },
   "source": [
    "## Use the model for inferencing\n",
    "\n",
    "Now, when you've been out and spotted a new penguin, you can load the model and use it to predict the penguin's species based on your measurements of its features. Using a model to generate predictions from new data is called *inferencing*."
   ]
  },
  {
   "cell_type": "code",
   "execution_count": null,
   "metadata": {
    "application/vnd.databricks.v1+cell": {
     "cellMetadata": {
      "byteLimit": 2048000,
      "rowLimit": 10000
     },
     "inputWidgets": {},
     "nuid": "da99b5d1-7d7d-48cc-8da5-d27beb004529",
     "showTitle": false,
     "title": ""
    }
   },
   "outputs": [],
   "source": [
    "from pyspark.ml.pipeline import PipelineModel\n",
    "\n",
    "persistedModel = PipelineModel.load(\"/models/penguin.model\")\n",
    "\n",
    "newData = spark.createDataFrame ([{\"Island\": \"Biscoe\",\n",
    "                                  \"CulmenLength\": 47.6,\n",
    "                                  \"CulmenDepth\": 14.5,\n",
    "                                  \"FlipperLength\": 215,\n",
    "                                  \"BodyMass\": 5400}])\n",
    "\n",
    "\n",
    "predictions = persistedModel.transform(newData)\n",
    "display(predictions.select(\"Island\", \"CulmenDepth\", \"CulmenLength\", \"FlipperLength\", \"BodyMass\", col(\"prediction\").alias(\"PredictedSpecies\")))"
   ]
  },
  {
   "cell_type": "markdown",
   "metadata": {
    "application/vnd.databricks.v1+cell": {
     "cellMetadata": {},
     "inputWidgets": {},
     "nuid": "0a96f139-0dd6-4509-b7be-fa346c362df4",
     "showTitle": false,
     "title": ""
    }
   },
   "source": [
    "In this notebook, you've explored the basics of preparing data and training machine learning models using MLLib in Apache Spark.\n",
    "\n",
    "For more information see the [Spark MLLib documentation](https://spark.apache.org/docs/latest/ml-guide.html)."
   ]
  }
 ],
 "metadata": {
  "application/vnd.databricks.v1+notebook": {
   "dashboards": [],
   "language": "python",
   "notebookMetadata": {
    "mostRecentlyExecutedCommandWithImplicitDF": {
     "commandId": 785843052686084,
     "dataframes": [
      "_sqldf"
     ]
    },
    "pythonIndentUnit": 4
   },
   "notebookName": "Spark-ML-Intro",
   "notebookOrigID": 785843052686082,
   "widgets": {}
  },
  "description": "",
  "kernel_info": {
   "name": "synapse_pyspark"
  },
  "kernelspec": {
   "display_name": "Synapse PySpark",
   "language": "Python",
   "name": "synapse_pyspark"
  },
  "language_info": {
   "name": "python"
  },
  "notebook_environment": {},
  "save_output": true,
  "spark_compute": {
   "compute_id": "/trident/default",
   "session_options": {
    "conf": {
     "spark.livy.synapse.ipythonInterpreter.enabled": "true"
    },
    "enableDebugMode": false,
    "keepAliveTimeout": 30
   }
  },
  "synapse_widget": {
   "state": {
    "554fe631-fd54-4e07-bcf9-f37423924109": {
     "persist_state": {
      "view": {
       "chartOptions": {
        "aggregationType": "sum",
        "categoryFieldKeys": [
         "2"
        ],
        "chartType": "bar",
        "isStacked": false,
        "seriesFieldKeys": [
         "2"
        ]
       },
       "tableOptions": {},
       "type": "details"
      }
     },
     "sync_state": {
      "isSummary": false,
      "language": "scala",
      "table": {
       "rows": [
        {
         "0": {
          "type": 1,
          "values": [
           33.099998474121094,
           16.100000381469727,
           178,
           2900
          ]
         },
         "1": {
          "type": 1,
          "values": [
           0.8890280378718675,
           0.03549123870246896,
           0.07548072342566367
          ]
         },
         "2": "0",
         "3": "0",
         "index": 1
        },
        {
         "0": {
          "type": 1,
          "values": [
           33.5,
           19,
           190,
           3600
          ]
         },
         "1": {
          "type": 1,
          "values": [
           0.897738027361901,
           0.034742636884282085,
           0.0675193357538169
          ]
         },
         "2": "0",
         "3": "0",
         "index": 2
        },
        {
         "0": {
          "type": 1,
          "values": [
           34.5,
           18.100000381469727,
           187,
           2900
          ]
         },
         "1": {
          "type": 1,
          "values": [
           0.8786099625700869,
           0.03067777156432993,
           0.09071226586558301
          ]
         },
         "2": "0",
         "3": "0",
         "index": 3
        },
        {
         "0": {
          "type": 1,
          "values": [
           34.599998474121094,
           17.200000762939453,
           189,
           3200
          ]
         },
         "1": {
          "type": 1,
          "values": [
           0.8527607360002483,
           0.05500113065135831,
           0.09223813334839333
          ]
         },
         "2": "0",
         "3": "0",
         "index": 4
        },
        {
         "0": {
          "type": 1,
          "values": [
           35.099998474121094,
           19.399999618530273,
           193,
           4200
          ]
         },
         "1": {
          "type": 1,
          "values": [
           0.8638305297011316,
           0.058252338357318426,
           0.07791713194155002
          ]
         },
         "2": "0",
         "3": "0",
         "index": 5
        },
        {
         "0": {
          "type": 1,
          "values": [
           35.20000076293945,
           15.899999618530273,
           186,
           3050
          ]
         },
         "1": {
          "type": 1,
          "values": [
           0.8202853979943032,
           0.07296035198284871,
           0.10675425002284797
          ]
         },
         "2": "0",
         "3": "0",
         "index": 6
        },
        {
         "0": {
          "type": 1,
          "values": [
           35.900001525878906,
           19.200000762939453,
           189,
           3800
          ]
         },
         "1": {
          "type": 1,
          "values": [
           0.8618427644290281,
           0.045224778758322454,
           0.09293245681264951
          ]
         },
         "2": "0",
         "3": "0",
         "index": 7
        },
        {
         "0": {
          "type": 1,
          "values": [
           36.400001525878906,
           17.100000381469727,
           184,
           2850
          ]
         },
         "1": {
          "type": 1,
          "values": [
           0.8304960679325403,
           0.044870431492103915,
           0.12463350057535587
          ]
         },
         "2": "0",
         "3": "0",
         "index": 8
        },
        {
         "0": {
          "type": 1,
          "values": [
           36.5,
           16.600000381469727,
           181,
           2850
          ]
         },
         "1": {
          "type": 1,
          "values": [
           0.8260957871664014,
           0.04718821240145104,
           0.12671600043214737
          ]
         },
         "2": "0",
         "3": "0",
         "index": 9
        },
        {
         "0": {
          "type": 1,
          "values": [
           36.5,
           18,
           182,
           3150
          ]
         },
         "1": {
          "type": 1,
          "values": [
           0.8492272022528062,
           0.03647658943358877,
           0.114296208313605
          ]
         },
         "2": "0",
         "3": "0",
         "index": 10
        },
        {
         "0": {
          "type": 1,
          "values": [
           37.599998474121094,
           17,
           185,
           3600
          ]
         },
         "1": {
          "type": 1,
          "values": [
           0.7853672270717772,
           0.08407647415104093,
           0.13055629877718183
          ]
         },
         "2": "0",
         "3": "0",
         "index": 11
        },
        {
         "0": {
          "type": 1,
          "values": [
           37.599998474121094,
           19.299999237060547,
           181,
           3300
          ]
         },
         "1": {
          "type": 1,
          "values": [
           0.8498764235385995,
           0.027265132103761434,
           0.12285844435763896
          ]
         },
         "2": "0",
         "3": "0",
         "index": 12
        },
        {
         "0": {
          "type": 1,
          "values": [
           37.70000076293945,
           16,
           183,
           3075
          ]
         },
         "1": {
          "type": 1,
          "values": [
           0.7710861874621011,
           0.08016108208193791,
           0.1487527304559609
          ]
         },
         "2": "0",
         "3": "0",
         "index": 13
        },
        {
         "0": {
          "type": 1,
          "values": [
           37.70000076293945,
           18.700000762939453,
           180,
           3600
          ]
         },
         "1": {
          "type": 1,
          "values": [
           0.8399300563694668,
           0.038802415254231636,
           0.12126752837630148
          ]
         },
         "2": "0",
         "3": "0",
         "index": 14
        },
        {
         "0": {
          "type": 1,
          "values": [
           37.79999923706055,
           18.299999237060547,
           174,
           3400
          ]
         },
         "1": {
          "type": 1,
          "values": [
           0.8449085518617121,
           0.030704576613919364,
           0.12438687152436846
          ]
         },
         "2": "0",
         "3": "0",
         "index": 15
        },
        {
         "0": {
          "type": 1,
          "values": [
           37.900001525878906,
           18.600000381469727,
           172,
           3150
          ]
         },
         "1": {
          "type": 1,
          "values": [
           0.8503655007647186,
           0.02200928152402646,
           0.12762521771125485
          ]
         },
         "2": "0",
         "3": "0",
         "index": 16
        },
        {
         "0": {
          "type": 1,
          "values": [
           37.900001525878906,
           18.600000381469727,
           193,
           2925
          ]
         },
         "1": {
          "type": 1,
          "values": [
           0.8002413262717067,
           0.048075410194753226,
           0.1516832635335401
          ]
         },
         "2": "0",
         "3": "0",
         "index": 17
        },
        {
         "0": {
          "type": 1,
          "values": [
           38.099998474121094,
           16.5,
           198,
           3825
          ]
         },
         "1": {
          "type": 1,
          "values": [
           0.6708101180986743,
           0.1923212996710594,
           0.13686858223026635
          ]
         },
         "2": "0",
         "3": "0",
         "index": 18
        },
        {
         "0": {
          "type": 1,
          "values": [
           38.099998474121094,
           17,
           181,
           3175
          ]
         },
         "1": {
          "type": 1,
          "values": [
           0.7933859962171589,
           0.0582674420347004,
           0.1483465617481407
          ]
         },
         "2": "0",
         "3": "0",
         "index": 19
        },
        {
         "0": {
          "type": 1,
          "values": [
           38.20000076293945,
           20,
           190,
           3900
          ]
         },
         "1": {
          "type": 1,
          "values": [
           0.8267027531795397,
           0.048230684669286636,
           0.12506656215117365
          ]
         },
         "2": "0",
         "3": "0",
         "index": 20
        },
        {
         "0": {
          "type": 1,
          "values": [
           38.900001525878906,
           18.799999237060547,
           190,
           3600
          ]
         },
         "1": {
          "type": 1,
          "values": [
           0.7834176279224216,
           0.0646882017639192,
           0.15189417031365915
          ]
         },
         "2": "0",
         "3": "0",
         "index": 21
        },
        {
         "0": {
          "type": 1,
          "values": [
           39.20000076293945,
           19.600000381469727,
           195,
           4675
          ]
         },
         "1": {
          "type": 1,
          "values": [
           0.7550259821723527,
           0.11607669675533543,
           0.12889732107231178
          ]
         },
         "2": "0",
         "3": "0",
         "index": 22
        },
        {
         "0": {
          "type": 1,
          "values": [
           39.5,
           17.799999237060547,
           188,
           3300
          ]
         },
         "1": {
          "type": 1,
          "values": [
           0.749452528720197,
           0.07325271417718059,
           0.1772947571026224
          ]
         },
         "2": "0",
         "3": "0",
         "index": 23
        },
        {
         "0": {
          "type": 1,
          "values": [
           39.599998474121094,
           17.200000762939453,
           196,
           3550
          ]
         },
         "1": {
          "type": 1,
          "values": [
           0.6817652442820058,
           0.14153658256487395,
           0.17669817315312025
          ]
         },
         "2": "0",
         "3": "0",
         "index": 24
        },
        {
         "0": {
          "type": 1,
          "values": [
           39.70000076293945,
           17.700000762939453,
           193,
           3200
          ]
         },
         "1": {
          "type": 1,
          "values": [
           0.7214307253770672,
           0.08915650885646467,
           0.18941276576646826
          ]
         },
         "2": "0",
         "3": "0",
         "index": 25
        },
        {
         "0": {
          "type": 1,
          "values": [
           40.20000076293945,
           17.100000381469727,
           193,
           3400
          ]
         },
         "1": {
          "type": 1,
          "values": [
           0.6788789756855933,
           0.12541942694138622,
           0.1957015973730205
          ]
         },
         "2": "0",
         "3": "0",
         "index": 26
        },
        {
         "0": {
          "type": 1,
          "values": [
           40.29999923706055,
           18,
           195,
           3250
          ]
         },
         "1": {
          "type": 1,
          "values": [
           0.7023377070207562,
           0.09492380186215536,
           0.2027384911170885
          ]
         },
         "2": "0",
         "3": "0",
         "index": 27
        },
        {
         "0": {
          "type": 1,
          "values": [
           40.29999923706055,
           18.5,
           196,
           4350
          ]
         },
         "1": {
          "type": 1,
          "values": [
           0.6831221973868127,
           0.15560355933875233,
           0.16127424327443496
          ]
         },
         "2": "0",
         "3": "0",
         "index": 28
        },
        {
         "0": {
          "type": 1,
          "values": [
           40.79999923706055,
           18.399999618530273,
           195,
           3900
          ]
         },
         "1": {
          "type": 1,
          "values": [
           0.685115479688398,
           0.12576986900039547,
           0.18911465131120656
          ]
         },
         "2": "0",
         "3": "0",
         "index": 29
        },
        {
         "0": {
          "type": 1,
          "values": [
           40.900001525878906,
           16.600000381469727,
           187,
           3200
          ]
         },
         "1": {
          "type": 1,
          "values": [
           0.6707469461468837,
           0.1090957450922352,
           0.22015730876088113
          ]
         },
         "2": "0",
         "3": "2",
         "index": 30
        },
        {
         "0": {
          "type": 1,
          "values": [
           40.900001525878906,
           16.799999237060547,
           191,
           3700
          ]
         },
         "1": {
          "type": 1,
          "values": [
           0.6427369729694687,
           0.15785495033595182,
           0.19940807669457958
          ]
         },
         "2": "0",
         "3": "0",
         "index": 31
        },
        {
         "0": {
          "type": 1,
          "values": [
           41,
           20,
           203,
           4725
          ]
         },
         "1": {
          "type": 1,
          "values": [
           0.6701168598850762,
           0.1671972776524749,
           0.16268586246244898
          ]
         },
         "2": "0",
         "3": "0",
         "index": 32
        },
        {
         "0": {
          "type": 1,
          "values": [
           41.099998474121094,
           18.600000381469727,
           189,
           3325
          ]
         },
         "1": {
          "type": 1,
          "values": [
           0.7180219283312296,
           0.06826616829284031,
           0.21371190337593005
          ]
         },
         "2": "0",
         "3": "0",
         "index": 33
        },
        {
         "0": {
          "type": 1,
          "values": [
           41.099998474121094,
           19.100000381469727,
           188,
           4100
          ]
         },
         "1": {
          "type": 1,
          "values": [
           0.7288701859747144,
           0.08761637545846945,
           0.18351343856681607
          ]
         },
         "2": "0",
         "3": "0",
         "index": 34
        },
        {
         "0": {
          "type": 1,
          "values": [
           41.70000076293945,
           14.699999809265137,
           210,
           4700
          ]
         },
         "1": {
          "type": 1,
          "values": [
           0.25059338821150035,
           0.6452273543979057,
           0.10417925739059392
          ]
         },
         "2": "1",
         "3": "1",
         "index": 35
        },
        {
         "0": {
          "type": 1,
          "values": [
           42,
           19.5,
           200,
           4050
          ]
         },
         "1": {
          "type": 1,
          "values": [
           0.6575495604092966,
           0.12983846238004468,
           0.21261197721065886
          ]
         },
         "2": "0",
         "3": "0",
         "index": 36
        },
        {
         "0": {
          "type": 1,
          "values": [
           42.20000076293945,
           18.5,
           180,
           3550
          ]
         },
         "1": {
          "type": 1,
          "values": [
           0.7109971490362329,
           0.06067981304552431,
           0.22832303791824268
          ]
         },
         "2": "0",
         "3": "0",
         "index": 37
        },
        {
         "0": {
          "type": 1,
          "values": [
           42.5,
           20.700000762939453,
           197,
           4500
          ]
         },
         "1": {
          "type": 1,
          "values": [
           0.6900422238412897,
           0.10664941893190827,
           0.20330835722680193
          ]
         },
         "2": "0",
         "3": "0",
         "index": 38
        },
        {
         "0": {
          "type": 1,
          "values": [
           42.599998474121094,
           13.699999809265137,
           213,
           4950
          ]
         },
         "1": {
          "type": 1,
          "values": [
           0.1415735538427278,
           0.7858957682689619,
           0.07253067788831027
          ]
         },
         "2": "1",
         "3": "1",
         "index": 39
        },
        {
         "0": {
          "type": 1,
          "values": [
           42.900001525878906,
           13.100000381469727,
           215,
           5000
          ]
         },
         "1": {
          "type": 1,
          "values": [
           0.10325750208420427,
           0.8381686263397683,
           0.058573871576027524
          ]
         },
         "2": "1",
         "3": "1",
         "index": 40
        },
        {
         "0": {
          "type": 1,
          "values": [
           42.900001525878906,
           17.600000381469727,
           196,
           4700
          ]
         },
         "1": {
          "type": 1,
          "values": [
           0.5226255213788105,
           0.2834738459861555,
           0.19390063263503404
          ]
         },
         "2": "0",
         "3": "0",
         "index": 41
        },
        {
         "0": {
          "type": 1,
          "values": [
           43.29999923706055,
           13.399999618530273,
           209,
           4400
          ]
         },
         "1": {
          "type": 1,
          "values": [
           0.1765256482663174,
           0.7138921237143928,
           0.10958222801928974
          ]
         },
         "2": "1",
         "3": "1",
         "index": 42
        },
        {
         "0": {
          "type": 1,
          "values": [
           43.400001525878906,
           14.399999618530273,
           218,
           4600
          ]
         },
         "1": {
          "type": 1,
          "values": [
           0.15400442238438034,
           0.750014388766659,
           0.0959811888489607
          ]
         },
         "2": "1",
         "3": "1",
         "index": 43
        },
        {
         "0": {
          "type": 1,
          "values": [
           43.5,
           14.199999809265137,
           220,
           4700
          ]
         },
         "1": {
          "type": 1,
          "values": [
           0.12777785367545164,
           0.7899137841704823,
           0.08230836215406594
          ]
         },
         "2": "1",
         "3": "1",
         "index": 44
        },
        {
         "0": {
          "type": 1,
          "values": [
           44.099998474121094,
           18,
           210,
           4000
          ]
         },
         "1": {
          "type": 1,
          "values": [
           0.44316598717270783,
           0.30513237769377904,
           0.25170163513351307
          ]
         },
         "2": "0",
         "3": "0",
         "index": 45
        },
        {
         "0": {
          "type": 1,
          "values": [
           44.5,
           14.300000190734863,
           216,
           4100
          ]
         },
         "1": {
          "type": 1,
          "values": [
           0.1744915873264329,
           0.6846384210884363,
           0.14086999158513075
          ]
         },
         "2": "1",
         "3": "1",
         "index": 46
        },
        {
         "0": {
          "type": 1,
          "values": [
           44.5,
           14.699999809265137,
           214,
           4850
          ]
         },
         "1": {
          "type": 1,
          "values": [
           0.15332036251549666,
           0.7418479084047529,
           0.10483172907975058
          ]
         },
         "2": "1",
         "3": "1",
         "index": 47
        },
        {
         "0": {
          "type": 1,
          "values": [
           45.099998474121094,
           14.399999618530273,
           210,
           4400
          ]
         },
         "1": {
          "type": 1,
          "values": [
           0.18193914852503887,
           0.6722853082250998,
           0.14577554324986128
          ]
         },
         "2": "1",
         "3": "1",
         "index": 48
        },
        {
         "0": {
          "type": 1,
          "values": [
           45.20000076293945,
           16.399999618530273,
           223,
           5950
          ]
         },
         "1": {
          "type": 1,
          "values": [
           0.10028478454896768,
           0.8366402687049914,
           0.063074946746041
          ]
         },
         "2": "1",
         "3": "1",
         "index": 49
        },
        {
         "0": {
          "type": 1,
          "values": [
           45.20000076293945,
           17.799999237060547,
           198,
           3950
          ]
         },
         "1": {
          "type": 1,
          "values": [
           0.47620841597186775,
           0.22524099233410766,
           0.29855059169402465
          ]
         },
         "2": "0",
         "3": "2",
         "index": 50
        },
        {
         "0": {
          "type": 1,
          "values": [
           45.29999923706055,
           13.699999809265137,
           210,
           4300
          ]
         },
         "1": {
          "type": 1,
          "values": [
           0.15404032716269492,
           0.7100216199674257,
           0.13593805286987928
          ]
         },
         "2": "1",
         "3": "1",
         "index": 51
        },
        {
         "0": {
          "type": 1,
          "values": [
           45.29999923706055,
           13.800000190734863,
           208,
           4200
          ]
         },
         "1": {
          "type": 1,
          "values": [
           0.17578737386682458,
           0.6704984903137196,
           0.15371413581945587
          ]
         },
         "2": "1",
         "3": "1",
         "index": 52
        },
        {
         "0": {
          "type": 1,
          "values": [
           46,
           21.5,
           194,
           4200
          ]
         },
         "1": {
          "type": 1,
          "values": [
           0.6048038302179464,
           0.07908801783811811,
           0.3161081519439355
          ]
         },
         "2": "0",
         "3": "0",
         "index": 53
        },
        {
         "0": {
          "type": 1,
          "values": [
           46.20000076293945,
           17.5,
           187,
           3650
          ]
         },
         "1": {
          "type": 1,
          "values": [
           0.49511207664368273,
           0.14862087742370916,
           0.35626704593260816
          ]
         },
         "2": "0",
         "3": "2",
         "index": 54
        },
        {
         "0": {
          "type": 1,
          "values": [
           46.400001525878906,
           15.600000381469727,
           221,
           5000
          ]
         },
         "1": {
          "type": 1,
          "values": [
           0.11563287293831508,
           0.7764505017302836,
           0.10791662533140134
          ]
         },
         "2": "1",
         "3": "1",
         "index": 55
        },
        {
         "0": {
          "type": 1,
          "values": [
           46.400001525878906,
           18.600000381469727,
           190,
           3450
          ]
         },
         "1": {
          "type": 1,
          "values": [
           0.5137359455343478,
           0.10798980353489927,
           0.3782742509307531
          ]
         },
         "2": "0",
         "3": "2",
         "index": 56
        },
        {
         "0": {
          "type": 1,
          "values": [
           46.5,
           14.399999618530273,
           217,
           4900
          ]
         },
         "1": {
          "type": 1,
          "values": [
           0.09758937705344553,
           0.8042892004835098,
           0.09812142246304467
          ]
         },
         "2": "1",
         "3": "1",
         "index": 57
        },
        {
         "0": {
          "type": 1,
          "values": [
           46.5,
           17.899999618530273,
           192,
           3500
          ]
         },
         "1": {
          "type": 1,
          "values": [
           0.47538425164725867,
           0.14775850675150198,
           0.37685724160123935
          ]
         },
         "2": "0",
         "3": "2",
         "index": 58
        },
        {
         "0": {
          "type": 1,
          "values": [
           46.599998474121094,
           14.199999809265137,
           210,
           4850
          ]
         },
         "1": {
          "type": 1,
          "values": [
           0.12089946226148227,
           0.7608072984802474,
           0.11829323925827027
          ]
         },
         "2": "1",
         "3": "1",
         "index": 59
        },
        {
         "0": {
          "type": 1,
          "values": [
           46.79999923706055,
           14.300000190734863,
           215,
           4850
          ]
         },
         "1": {
          "type": 1,
          "values": [
           0.10093883549872347,
           0.7926096461656844,
           0.10645151833559206
          ]
         },
         "2": "1",
         "3": "1",
         "index": 60
        },
        {
         "0": {
          "type": 1,
          "values": [
           47.29999923706055,
           13.800000190734863,
           216,
           4725
          ]
         },
         "1": {
          "type": 1,
          "values": [
           0.08343328756790945,
           0.8144598912126169,
           0.10210682121947369
          ]
         },
         "2": "1",
         "3": "1",
         "index": 61
        },
        {
         "0": {
          "type": 1,
          "values": [
           47.5,
           14.199999809265137,
           209,
           4600
          ]
         },
         "1": {
          "type": 1,
          "values": [
           0.12535739214155422,
           0.726818023714883,
           0.14782458414356275
          ]
         },
         "2": "1",
         "3": "1",
         "index": 62
        },
        {
         "0": {
          "type": 1,
          "values": [
           47.599998474121094,
           18.299999237060547,
           195,
           3850
          ]
         },
         "1": {
          "type": 1,
          "values": [
           0.42632411546512616,
           0.18661028476508917,
           0.3870655997697846
          ]
         },
         "2": "0",
         "3": "2",
         "index": 63
        },
        {
         "0": {
          "type": 1,
          "values": [
           47.79999923706055,
           15,
           215,
           5650
          ]
         },
         "1": {
          "type": 1,
          "values": [
           0.07579481599846301,
           0.844442330135077,
           0.07976285386645997
          ]
         },
         "2": "1",
         "3": "1",
         "index": 64
        },
        {
         "0": {
          "type": 1,
          "values": [
           48.099998474121094,
           15.100000381469727,
           209,
           5500
          ]
         },
         "1": {
          "type": 1,
          "values": [
           0.10221447794648236,
           0.7887849572037288,
           0.10900056484978882
          ]
         },
         "2": "1",
         "3": "1",
         "index": 65
        },
        {
         "0": {
          "type": 1,
          "values": [
           48.20000076293945,
           14.300000190734863,
           210,
           4600
          ]
         },
         "1": {
          "type": 1,
          "values": [
           0.1144863128575235,
           0.7327017097412614,
           0.15281197740121505
          ]
         },
         "2": "1",
         "3": "1",
         "index": 66
        },
        {
         "0": {
          "type": 1,
          "values": [
           48.20000076293945,
           15.600000381469727,
           221,
           5100
          ]
         },
         "1": {
          "type": 1,
          "values": [
           0.08920311252572356,
           0.7989653556951233,
           0.1118315317791533
          ]
         },
         "2": "1",
         "3": "1",
         "index": 67
        },
        {
         "0": {
          "type": 1,
          "values": [
           48.400001525878906,
           14.600000381469727,
           213,
           5850
          ]
         },
         "1": {
          "type": 1,
          "values": [
           0.06087900183862608,
           0.8697966164909515,
           0.06932438167042233
          ]
         },
         "2": "1",
         "3": "1",
         "index": 68
        },
        {
         "0": {
          "type": 1,
          "values": [
           48.599998474121094,
           16,
           230,
           5800
          ]
         },
         "1": {
          "type": 1,
          "values": [
           0.047433874488847866,
           0.8922392991591495,
           0.06032682635200272
          ]
         },
         "2": "1",
         "3": "1",
         "index": 69
        },
        {
         "0": {
          "type": 1,
          "values": [
           48.70000076293945,
           15.100000381469727,
           222,
           5350
          ]
         },
         "1": {
          "type": 1,
          "values": [
           0.06133493140409235,
           0.8546797704379189,
           0.08398529815798884
          ]
         },
         "2": "1",
         "3": "1",
         "index": 70
        },
        {
         "0": {
          "type": 1,
          "values": [
           48.79999923706055,
           16.200000762939453,
           222,
           6000
          ]
         },
         "1": {
          "type": 1,
          "values": [
           0.062107496403333656,
           0.865406011175789,
           0.07248649242087739
          ]
         },
         "2": "1",
         "3": "1",
         "index": 71
        },
        {
         "0": {
          "type": 1,
          "values": [
           49,
           16.100000381469727,
           216,
           5550
          ]
         },
         "1": {
          "type": 1,
          "values": [
           0.09256041679053024,
           0.7930147871167751,
           0.11442479609269468
          ]
         },
         "2": "1",
         "3": "1",
         "index": 72
        },
        {
         "0": {
          "type": 1,
          "values": [
           49,
           19.5,
           210,
           3950
          ]
         },
         "1": {
          "type": 1,
          "values": [
           0.34122836345335084,
           0.2455009931758388,
           0.4132706433708104
          ]
         },
         "2": "2",
         "3": "2",
         "index": 73
        },
        {
         "0": {
          "type": 1,
          "values": [
           49,
           19.600000381469727,
           212,
           4300
          ]
         },
         "1": {
          "type": 1,
          "values": [
           0.3228717155256617,
           0.3030428946498441,
           0.37408538982449424
          ]
         },
         "2": "2",
         "3": "2",
         "index": 74
        },
        {
         "0": {
          "type": 1,
          "values": [
           49.099998474121094,
           14.800000190734863,
           220,
           5150
          ]
         },
         "1": {
          "type": 1,
          "values": [
           0.06353242827610696,
           0.8400964898240454,
           0.09637108189984772
          ]
         },
         "2": "1",
         "3": "1",
         "index": 75
        },
        {
         "0": {
          "type": 1,
          "values": [
           49.29999923706055,
           19.899999618530273,
           203,
           4050
          ]
         },
         "1": {
          "type": 1,
          "values": [
           0.3787743839634333,
           0.18753945971120686,
           0.43368615632535973
          ]
         },
         "2": "2",
         "3": "2",
         "index": 76
        },
        {
         "0": {
          "type": 1,
          "values": [
           49.400001525878906,
           15.800000190734863,
           216,
           4925
          ]
         },
         "1": {
          "type": 1,
          "values": [
           0.10622236323761555,
           0.735018724296532,
           0.15875891246585241
          ]
         },
         "2": "1",
         "3": "1",
         "index": 77
        },
        {
         "0": {
          "type": 1,
          "values": [
           49.5,
           16.100000381469727,
           224,
           5650
          ]
         },
         "1": {
          "type": 1,
          "values": [
           0.0606476431545019,
           0.8526450650539921,
           0.08670729179150594
          ]
         },
         "2": "1",
         "3": "1",
         "index": 78
        },
        {
         "0": {
          "type": 1,
          "values": [
           49.599998474121094,
           15,
           216,
           4750
          ]
         },
         "1": {
          "type": 1,
          "values": [
           0.08899230460882919,
           0.7617526861967938,
           0.14925500919437695
          ]
         },
         "2": "1",
         "3": "1",
         "index": 79
        },
        {
         "0": {
          "type": 1,
          "values": [
           49.599998474121094,
           18.200000762939453,
           193,
           3775
          ]
         },
         "1": {
          "type": 1,
          "values": [
           0.35808018197255825,
           0.18251658991859343,
           0.4594032281088483
          ]
         },
         "2": "2",
         "3": "2",
         "index": 80
        },
        {
         "0": {
          "type": 1,
          "values": [
           49.70000076293945,
           18.600000381469727,
           195,
           3600
          ]
         },
         "1": {
          "type": 1,
          "values": [
           0.36052268683842476,
           0.1589582833742834,
           0.4805190297872918
          ]
         },
         "2": "2",
         "3": "2",
         "index": 81
        },
        {
         "0": {
          "type": 1,
          "values": [
           49.900001525878906,
           16.100000381469727,
           213,
           5400
          ]
         },
         "1": {
          "type": 1,
          "values": [
           0.099258284281705,
           0.7579331496164574,
           0.14280856610183765
          ]
         },
         "2": "1",
         "3": "1",
         "index": 82
        },
        {
         "0": {
          "type": 1,
          "values": [
           50,
           15.899999618530273,
           224,
           5350
          ]
         },
         "1": {
          "type": 1,
          "values": [
           0.06201703215134912,
           0.8351709980981601,
           0.1028119697504908
          ]
         },
         "2": "1",
         "3": "1",
         "index": 83
        },
        {
         "0": {
          "type": 1,
          "values": [
           50.099998474121094,
           15,
           225,
           5000
          ]
         },
         "1": {
          "type": 1,
          "values": [
           0.05261129800917247,
           0.8468451545592655,
           0.10054354743156209
          ]
         },
         "2": "1",
         "3": "1",
         "index": 84
        },
        {
         "0": {
          "type": 1,
          "values": [
           50.5,
           15.899999618530273,
           225,
           5400
          ]
         },
         "1": {
          "type": 1,
          "values": [
           0.054651710922812034,
           0.8464341734095985,
           0.09891411566758943
          ]
         },
         "2": "1",
         "3": "1",
         "index": 85
        },
        {
         "0": {
          "type": 1,
          "values": [
           50.5,
           18.399999618530273,
           200,
           3400
          ]
         },
         "1": {
          "type": 1,
          "values": [
           0.3061507431847018,
           0.17992262231297254,
           0.5139266345023257
          ]
         },
         "2": "2",
         "3": "2",
         "index": 86
        },
        {
         "0": {
          "type": 1,
          "values": [
           50.599998474121094,
           19.399999618530273,
           193,
           3800
          ]
         },
         "1": {
          "type": 1,
          "values": [
           0.35929436052381186,
           0.13617728937019632,
           0.504528350105992
          ]
         },
         "2": "2",
         "3": "2",
         "index": 87
        },
        {
         "0": {
          "type": 1,
          "values": [
           50.70000076293945,
           15,
           223,
           5550
          ]
         },
         "1": {
          "type": 1,
          "values": [
           0.040168326411881304,
           0.8833632349973033,
           0.07646843859081541
          ]
         },
         "2": "1",
         "3": "1",
         "index": 88
        },
        {
         "0": {
          "type": 1,
          "values": [
           50.79999923706055,
           17.299999237060547,
           228,
           5600
          ]
         },
         "1": {
          "type": 1,
          "values": [
           0.06562537229409747,
           0.8207077662952009,
           0.11366686141070159
          ]
         },
         "2": "1",
         "3": "1",
         "index": 89
        },
        {
         "0": {
          "type": 1,
          "values": [
           50.900001525878906,
           17.899999618530273,
           196,
           3675
          ]
         },
         "1": {
          "type": 1,
          "values": [
           0.29080162149140154,
           0.21119961982082486,
           0.49799875868777366
          ]
         },
         "2": "2",
         "3": "2",
         "index": 90
        },
        {
         "0": {
          "type": 1,
          "values": [
           51.099998474121094,
           16.5,
           225,
           5250
          ]
         },
         "1": {
          "type": 1,
          "values": [
           0.0655707258695782,
           0.8047450570662356,
           0.1296842170641862
          ]
         },
         "2": "1",
         "3": "1",
         "index": 91
        },
        {
         "0": {
          "type": 1,
          "values": [
           51.29999923706055,
           18.200000762939453,
           197,
           3750
          ]
         },
         "1": {
          "type": 1,
          "values": [
           0.28209766602234604,
           0.21166435289131064,
           0.5062379810863432
          ]
         },
         "2": "2",
         "3": "2",
         "index": 92
        },
        {
         "0": {
          "type": 1,
          "values": [
           51.29999923706055,
           19.200000762939453,
           193,
           3650
          ]
         },
         "1": {
          "type": 1,
          "values": [
           0.32759517018738726,
           0.13343942729456126,
           0.5389654025180516
          ]
         },
         "2": "2",
         "3": "2",
         "index": 93
        },
        {
         "0": {
          "type": 1,
          "values": [
           51.29999923706055,
           19.899999618530273,
           198,
           3700
          ]
         },
         "1": {
          "type": 1,
          "values": [
           0.32852487472386827,
           0.13474738846753992,
           0.5367277368085919
          ]
         },
         "2": "2",
         "3": "2",
         "index": 94
        },
        {
         "0": {
          "type": 1,
          "values": [
           51.400001525878906,
           19,
           201,
           3950
          ]
         },
         "1": {
          "type": 1,
          "values": [
           0.2847321046846804,
           0.2193381242073543,
           0.4959297711079652
          ]
         },
         "2": "2",
         "3": "2",
         "index": 95
        },
        {
         "0": {
          "type": 1,
          "values": [
           51.900001525878906,
           19.5,
           206,
           3950
          ]
         },
         "1": {
          "type": 1,
          "values": [
           0.26391943972697623,
           0.22772452323326264,
           0.5083560370397612
          ]
         },
         "2": "2",
         "3": "2",
         "index": 96
        },
        {
         "0": {
          "type": 1,
          "values": [
           52,
           20.700000762939453,
           210,
           4800
          ]
         },
         "1": {
          "type": 1,
          "values": [
           0.265327608916228,
           0.29963694305989463,
           0.4350354480238775
          ]
         },
         "2": "2",
         "3": "2",
         "index": 97
        },
        {
         "0": {
          "type": 1,
          "values": [
           52.20000076293945,
           18.799999237060547,
           197,
           3450
          ]
         },
         "1": {
          "type": 1,
          "values": [
           0.2716858586631057,
           0.15340170651630064,
           0.5749124348205937
          ]
         },
         "2": "2",
         "3": "2",
         "index": 98
        },
        {
         "0": {
          "type": 1,
          "values": [
           52.79999923706055,
           20,
           205,
           4550
          ]
         },
         "1": {
          "type": 1,
          "values": [
           0.2463234689923823,
           0.271280223691266,
           0.4823963073163517
          ]
         },
         "2": "2",
         "3": "2",
         "index": 99
        },
        {
         "0": {
          "type": 1,
          "values": [
           53.400001525878906,
           15.800000190734863,
           219,
           5500
          ]
         },
         "1": {
          "type": 1,
          "values": [
           0.04457508423768361,
           0.8307067649988423,
           0.12471815076347423
          ]
         },
         "2": "1",
         "3": "1",
         "index": 100
        },
        {
         "0": {
          "type": 1,
          "values": [
           55.099998474121094,
           16,
           230,
           5850
          ]
         },
         "1": {
          "type": 1,
          "values": [
           0.02037574059184262,
           0.9005152702451146,
           0.07910898916304267
          ]
         },
         "2": "1",
         "3": "1",
         "index": 101
        },
        {
         "0": {
          "type": 1,
          "values": [
           55.79999923706055,
           19.799999237060547,
           207,
           4000
          ]
         },
         "1": {
          "type": 1,
          "values": [
           0.16444020194730802,
           0.2250977079974468,
           0.6104620900552452
          ]
         },
         "2": "2",
         "3": "2",
         "index": 102
        },
        {
         "0": {
          "type": 1,
          "values": [
           55.900001525878906,
           17,
           228,
           5600
          ]
         },
         "1": {
          "type": 1,
          "values": [
           0.03133900016172064,
           0.8349310879844268,
           0.13372991185385255
          ]
         },
         "2": "1",
         "3": "1",
         "index": 103
        },
        {
         "0": {
          "type": 1,
          "values": [
           58,
           17.799999237060547,
           181,
           3700
          ]
         },
         "1": {
          "type": 1,
          "values": [
           0.1422882944685236,
           0.13325654934861328,
           0.724455156182863
          ]
         },
         "2": "2",
         "3": "2",
         "index": 104
        }
       ],
       "schema": [
        {
         "key": "0",
         "name": "features",
         "type": "org.apache.spark.ml.linalg.VectorUDT@3bfc3ba7"
        },
        {
         "key": "1",
         "name": "probability",
         "type": "org.apache.spark.ml.linalg.VectorUDT@3bfc3ba7"
        },
        {
         "key": "2",
         "name": "prediction",
         "type": "int"
        },
        {
         "key": "3",
         "name": "trueLabel",
         "type": "int"
        }
       ],
       "truncated": false
      }
     },
     "type": "Synapse.DataFrame"
    },
    "89246cc9-6d21-40b5-bc11-879948c90668": {
     "persist_state": {
      "view": {
       "chartOptions": {
        "aggregationType": "count",
        "categoryFieldKeys": [
         "4"
        ],
        "chartType": "bar",
        "isStacked": false,
        "seriesFieldKeys": [
         "0"
        ]
       },
       "tableOptions": {},
       "type": "details"
      }
     },
     "sync_state": {
      "isSummary": false,
      "language": "scala",
      "table": {
       "rows": [
        {
         "0": "39.1",
         "1": "18.7",
         "2": "181",
         "3": "3750",
         "4": "0",
         "index": 1
        },
        {
         "0": "39.5",
         "1": "17.4",
         "2": "186",
         "3": "3800",
         "4": "0",
         "index": 2
        },
        {
         "0": "40.3",
         "1": "18",
         "2": "195",
         "3": "3250",
         "4": "0",
         "index": 3
        },
        {
         "4": "0",
         "index": 4
        },
        {
         "0": "36.7",
         "1": "19.3",
         "2": "193",
         "3": "3450",
         "4": "0",
         "index": 5
        },
        {
         "0": "39.3",
         "1": "20.6",
         "2": "190",
         "3": "3650",
         "4": "0",
         "index": 6
        },
        {
         "0": "38.9",
         "1": "17.8",
         "2": "181",
         "3": "3625",
         "4": "0",
         "index": 7
        },
        {
         "0": "39.2",
         "1": "19.6",
         "2": "195",
         "3": "4675",
         "4": "0",
         "index": 8
        },
        {
         "0": "34.1",
         "1": "18.1",
         "2": "193",
         "3": "3475",
         "4": "0",
         "index": 9
        },
        {
         "0": "42",
         "1": "20.2",
         "2": "190",
         "3": "4250",
         "4": "0",
         "index": 10
        },
        {
         "0": "37.8",
         "1": "17.1",
         "2": "186",
         "3": "3300",
         "4": "0",
         "index": 11
        },
        {
         "0": "37.8",
         "1": "17.3",
         "2": "180",
         "3": "3700",
         "4": "0",
         "index": 12
        },
        {
         "0": "41.1",
         "1": "17.6",
         "2": "182",
         "3": "3200",
         "4": "0",
         "index": 13
        },
        {
         "0": "38.6",
         "1": "21.2",
         "2": "191",
         "3": "3800",
         "4": "0",
         "index": 14
        },
        {
         "0": "34.6",
         "1": "21.1",
         "2": "198",
         "3": "4400",
         "4": "0",
         "index": 15
        },
        {
         "0": "36.6",
         "1": "17.8",
         "2": "185",
         "3": "3700",
         "4": "0",
         "index": 16
        },
        {
         "0": "38.7",
         "1": "19",
         "2": "195",
         "3": "3450",
         "4": "0",
         "index": 17
        },
        {
         "0": "42.5",
         "1": "20.7",
         "2": "197",
         "3": "4500",
         "4": "0",
         "index": 18
        },
        {
         "0": "34.4",
         "1": "18.4",
         "2": "184",
         "3": "3325",
         "4": "0",
         "index": 19
        },
        {
         "0": "46",
         "1": "21.5",
         "2": "194",
         "3": "4200",
         "4": "0",
         "index": 20
        },
        {
         "0": "37.8",
         "1": "18.3",
         "2": "174",
         "3": "3400",
         "4": "0",
         "index": 21
        },
        {
         "0": "37.7",
         "1": "18.7",
         "2": "180",
         "3": "3600",
         "4": "0",
         "index": 22
        },
        {
         "0": "35.9",
         "1": "19.2",
         "2": "189",
         "3": "3800",
         "4": "0",
         "index": 23
        },
        {
         "0": "38.2",
         "1": "18.1",
         "2": "185",
         "3": "3950",
         "4": "0",
         "index": 24
        },
        {
         "0": "38.8",
         "1": "17.2",
         "2": "180",
         "3": "3800",
         "4": "0",
         "index": 25
        },
        {
         "0": "35.3",
         "1": "18.9",
         "2": "187",
         "3": "3800",
         "4": "0",
         "index": 26
        },
        {
         "0": "40.6",
         "1": "18.6",
         "2": "183",
         "3": "3550",
         "4": "0",
         "index": 27
        },
        {
         "0": "40.5",
         "1": "17.9",
         "2": "187",
         "3": "3200",
         "4": "0",
         "index": 28
        },
        {
         "0": "37.9",
         "1": "18.6",
         "2": "172",
         "3": "3150",
         "4": "0",
         "index": 29
        },
        {
         "0": "40.5",
         "1": "18.9",
         "2": "180",
         "3": "3950",
         "4": "0",
         "index": 30
        },
        {
         "0": "39.5",
         "1": "16.7",
         "2": "178",
         "3": "3250",
         "4": "0",
         "index": 31
        },
        {
         "0": "37.2",
         "1": "18.1",
         "2": "178",
         "3": "3900",
         "4": "0",
         "index": 32
        },
        {
         "0": "39.5",
         "1": "17.8",
         "2": "188",
         "3": "3300",
         "4": "0",
         "index": 33
        },
        {
         "0": "40.9",
         "1": "18.9",
         "2": "184",
         "3": "3900",
         "4": "0",
         "index": 34
        },
        {
         "0": "36.4",
         "1": "17",
         "2": "195",
         "3": "3325",
         "4": "0",
         "index": 35
        },
        {
         "0": "39.2",
         "1": "21.1",
         "2": "196",
         "3": "4150",
         "4": "0",
         "index": 36
        },
        {
         "0": "38.8",
         "1": "20",
         "2": "190",
         "3": "3950",
         "4": "0",
         "index": 37
        },
        {
         "0": "42.2",
         "1": "18.5",
         "2": "180",
         "3": "3550",
         "4": "0",
         "index": 38
        },
        {
         "0": "37.6",
         "1": "19.3",
         "2": "181",
         "3": "3300",
         "4": "0",
         "index": 39
        },
        {
         "0": "39.8",
         "1": "19.1",
         "2": "184",
         "3": "4650",
         "4": "0",
         "index": 40
        },
        {
         "0": "36.5",
         "1": "18",
         "2": "182",
         "3": "3150",
         "4": "0",
         "index": 41
        },
        {
         "0": "40.8",
         "1": "18.4",
         "2": "195",
         "3": "3900",
         "4": "0",
         "index": 42
        },
        {
         "0": "36",
         "1": "18.5",
         "2": "186",
         "3": "3100",
         "4": "0",
         "index": 43
        },
        {
         "0": "44.1",
         "1": "19.7",
         "2": "196",
         "3": "4400",
         "4": "0",
         "index": 44
        },
        {
         "0": "37",
         "1": "16.9",
         "2": "185",
         "3": "3000",
         "4": "0",
         "index": 45
        },
        {
         "0": "39.6",
         "1": "18.8",
         "2": "190",
         "3": "4600",
         "4": "0",
         "index": 46
        },
        {
         "0": "41.1",
         "1": "19",
         "2": "182",
         "3": "3425",
         "4": "0",
         "index": 47
        },
        {
         "0": "37.5",
         "1": "18.9",
         "2": "179",
         "3": "2975",
         "4": "0",
         "index": 48
        },
        {
         "0": "36",
         "1": "17.9",
         "2": "190",
         "3": "3450",
         "4": "0",
         "index": 49
        },
        {
         "0": "42.3",
         "1": "21.2",
         "2": "191",
         "3": "4150",
         "4": "0",
         "index": 50
        },
        {
         "0": "39.6",
         "1": "17.7",
         "2": "186",
         "3": "3500",
         "4": "0",
         "index": 51
        },
        {
         "0": "40.1",
         "1": "18.9",
         "2": "188",
         "3": "4300",
         "4": "0",
         "index": 52
        },
        {
         "0": "35",
         "1": "17.9",
         "2": "190",
         "3": "3450",
         "4": "0",
         "index": 53
        },
        {
         "0": "42",
         "1": "19.5",
         "2": "200",
         "3": "4050",
         "4": "0",
         "index": 54
        },
        {
         "0": "34.5",
         "1": "18.1",
         "2": "187",
         "3": "2900",
         "4": "0",
         "index": 55
        },
        {
         "0": "41.4",
         "1": "18.6",
         "2": "191",
         "3": "3700",
         "4": "0",
         "index": 56
        },
        {
         "0": "39",
         "1": "17.5",
         "2": "186",
         "3": "3550",
         "4": "0",
         "index": 57
        },
        {
         "0": "40.6",
         "1": "18.8",
         "2": "193",
         "3": "3800",
         "4": "0",
         "index": 58
        },
        {
         "0": "36.5",
         "1": "16.6",
         "2": "181",
         "3": "2850",
         "4": "0",
         "index": 59
        },
        {
         "0": "37.6",
         "1": "19.1",
         "2": "194",
         "3": "3750",
         "4": "0",
         "index": 60
        },
        {
         "0": "35.7",
         "1": "16.9",
         "2": "185",
         "3": "3150",
         "4": "0",
         "index": 61
        },
        {
         "0": "41.3",
         "1": "21.1",
         "2": "195",
         "3": "4400",
         "4": "0",
         "index": 62
        },
        {
         "0": "37.6",
         "1": "17",
         "2": "185",
         "3": "3600",
         "4": "0",
         "index": 63
        },
        {
         "0": "41.1",
         "1": "18.2",
         "2": "192",
         "3": "4050",
         "4": "0",
         "index": 64
        },
        {
         "0": "36.4",
         "1": "17.1",
         "2": "184",
         "3": "2850",
         "4": "0",
         "index": 65
        },
        {
         "0": "41.6",
         "1": "18",
         "2": "192",
         "3": "3950",
         "4": "0",
         "index": 66
        },
        {
         "0": "35.5",
         "1": "16.2",
         "2": "195",
         "3": "3350",
         "4": "0",
         "index": 67
        },
        {
         "0": "41.1",
         "1": "19.1",
         "2": "188",
         "3": "4100",
         "4": "0",
         "index": 68
        },
        {
         "0": "35.9",
         "1": "16.6",
         "2": "190",
         "3": "3050",
         "4": "0",
         "index": 69
        },
        {
         "0": "41.8",
         "1": "19.4",
         "2": "198",
         "3": "4450",
         "4": "0",
         "index": 70
        },
        {
         "0": "33.5",
         "1": "19",
         "2": "190",
         "3": "3600",
         "4": "0",
         "index": 71
        },
        {
         "0": "39.7",
         "1": "18.4",
         "2": "190",
         "3": "3900",
         "4": "0",
         "index": 72
        },
        {
         "0": "39.6",
         "1": "17.2",
         "2": "196",
         "3": "3550",
         "4": "0",
         "index": 73
        },
        {
         "0": "45.8",
         "1": "18.9",
         "2": "197",
         "3": "4150",
         "4": "0",
         "index": 74
        },
        {
         "0": "35.5",
         "1": "17.5",
         "2": "190",
         "3": "3700",
         "4": "0",
         "index": 75
        },
        {
         "0": "42.8",
         "1": "18.5",
         "2": "195",
         "3": "4250",
         "4": "0",
         "index": 76
        },
        {
         "0": "40.9",
         "1": "16.8",
         "2": "191",
         "3": "3700",
         "4": "0",
         "index": 77
        },
        {
         "0": "37.2",
         "1": "19.4",
         "2": "184",
         "3": "3900",
         "4": "0",
         "index": 78
        },
        {
         "0": "36.2",
         "1": "16.1",
         "2": "187",
         "3": "3550",
         "4": "0",
         "index": 79
        },
        {
         "0": "42.1",
         "1": "19.1",
         "2": "195",
         "3": "4000",
         "4": "0",
         "index": 80
        },
        {
         "0": "34.6",
         "1": "17.2",
         "2": "189",
         "3": "3200",
         "4": "0",
         "index": 81
        },
        {
         "0": "42.9",
         "1": "17.6",
         "2": "196",
         "3": "4700",
         "4": "0",
         "index": 82
        },
        {
         "0": "36.7",
         "1": "18.8",
         "2": "187",
         "3": "3800",
         "4": "0",
         "index": 83
        },
        {
         "0": "35.1",
         "1": "19.4",
         "2": "193",
         "3": "4200",
         "4": "0",
         "index": 84
        },
        {
         "0": "37.3",
         "1": "17.8",
         "2": "191",
         "3": "3350",
         "4": "0",
         "index": 85
        },
        {
         "0": "41.3",
         "1": "20.3",
         "2": "194",
         "3": "3550",
         "4": "0",
         "index": 86
        },
        {
         "0": "36.3",
         "1": "19.5",
         "2": "190",
         "3": "3800",
         "4": "0",
         "index": 87
        },
        {
         "0": "36.9",
         "1": "18.6",
         "2": "189",
         "3": "3500",
         "4": "0",
         "index": 88
        },
        {
         "0": "38.3",
         "1": "19.2",
         "2": "189",
         "3": "3950",
         "4": "0",
         "index": 89
        },
        {
         "0": "38.9",
         "1": "18.8",
         "2": "190",
         "3": "3600",
         "4": "0",
         "index": 90
        },
        {
         "0": "35.7",
         "1": "18",
         "2": "202",
         "3": "3550",
         "4": "0",
         "index": 91
        },
        {
         "0": "41.1",
         "1": "18.1",
         "2": "205",
         "3": "4300",
         "4": "0",
         "index": 92
        },
        {
         "0": "34",
         "1": "17.1",
         "2": "185",
         "3": "3400",
         "4": "0",
         "index": 93
        },
        {
         "0": "39.6",
         "1": "18.1",
         "2": "186",
         "3": "4450",
         "4": "0",
         "index": 94
        },
        {
         "0": "36.2",
         "1": "17.3",
         "2": "187",
         "3": "3300",
         "4": "0",
         "index": 95
        },
        {
         "0": "40.8",
         "1": "18.9",
         "2": "208",
         "3": "4300",
         "4": "0",
         "index": 96
        },
        {
         "0": "38.1",
         "1": "18.6",
         "2": "190",
         "3": "3700",
         "4": "0",
         "index": 97
        },
        {
         "0": "40.3",
         "1": "18.5",
         "2": "196",
         "3": "4350",
         "4": "0",
         "index": 98
        },
        {
         "0": "33.1",
         "1": "16.1",
         "2": "178",
         "3": "2900",
         "4": "0",
         "index": 99
        },
        {
         "0": "43.2",
         "1": "18.5",
         "2": "192",
         "3": "4100",
         "4": "0",
         "index": 100
        },
        {
         "0": "35",
         "1": "17.9",
         "2": "192",
         "3": "3725",
         "4": "0",
         "index": 101
        },
        {
         "0": "41",
         "1": "20",
         "2": "203",
         "3": "4725",
         "4": "0",
         "index": 102
        },
        {
         "0": "37.7",
         "1": "16",
         "2": "183",
         "3": "3075",
         "4": "0",
         "index": 103
        },
        {
         "0": "37.8",
         "1": "20",
         "2": "190",
         "3": "4250",
         "4": "0",
         "index": 104
        },
        {
         "0": "37.9",
         "1": "18.6",
         "2": "193",
         "3": "2925",
         "4": "0",
         "index": 105
        },
        {
         "0": "39.7",
         "1": "18.9",
         "2": "184",
         "3": "3550",
         "4": "0",
         "index": 106
        },
        {
         "0": "38.6",
         "1": "17.2",
         "2": "199",
         "3": "3750",
         "4": "0",
         "index": 107
        },
        {
         "0": "38.2",
         "1": "20",
         "2": "190",
         "3": "3900",
         "4": "0",
         "index": 108
        },
        {
         "0": "38.1",
         "1": "17",
         "2": "181",
         "3": "3175",
         "4": "0",
         "index": 109
        },
        {
         "0": "43.2",
         "1": "19",
         "2": "197",
         "3": "4775",
         "4": "0",
         "index": 110
        },
        {
         "0": "38.1",
         "1": "16.5",
         "2": "198",
         "3": "3825",
         "4": "0",
         "index": 111
        },
        {
         "0": "45.6",
         "1": "20.3",
         "2": "191",
         "3": "4600",
         "4": "0",
         "index": 112
        },
        {
         "0": "39.7",
         "1": "17.7",
         "2": "193",
         "3": "3200",
         "4": "0",
         "index": 113
        },
        {
         "0": "42.2",
         "1": "19.5",
         "2": "197",
         "3": "4275",
         "4": "0",
         "index": 114
        },
        {
         "0": "39.6",
         "1": "20.7",
         "2": "191",
         "3": "3900",
         "4": "0",
         "index": 115
        },
        {
         "0": "42.7",
         "1": "18.3",
         "2": "196",
         "3": "4075",
         "4": "0",
         "index": 116
        },
        {
         "0": "38.6",
         "1": "17",
         "2": "188",
         "3": "2900",
         "4": "0",
         "index": 117
        },
        {
         "0": "37.3",
         "1": "20.5",
         "2": "199",
         "3": "3775",
         "4": "0",
         "index": 118
        },
        {
         "0": "35.7",
         "1": "17",
         "2": "189",
         "3": "3350",
         "4": "0",
         "index": 119
        },
        {
         "0": "41.1",
         "1": "18.6",
         "2": "189",
         "3": "3325",
         "4": "0",
         "index": 120
        },
        {
         "0": "36.2",
         "1": "17.2",
         "2": "187",
         "3": "3150",
         "4": "0",
         "index": 121
        },
        {
         "0": "37.7",
         "1": "19.8",
         "2": "198",
         "3": "3500",
         "4": "0",
         "index": 122
        },
        {
         "0": "40.2",
         "1": "17",
         "2": "176",
         "3": "3450",
         "4": "0",
         "index": 123
        },
        {
         "0": "41.4",
         "1": "18.5",
         "2": "202",
         "3": "3875",
         "4": "0",
         "index": 124
        },
        {
         "0": "35.2",
         "1": "15.9",
         "2": "186",
         "3": "3050",
         "4": "0",
         "index": 125
        },
        {
         "0": "40.6",
         "1": "19",
         "2": "199",
         "3": "4000",
         "4": "0",
         "index": 126
        },
        {
         "0": "38.8",
         "1": "17.6",
         "2": "191",
         "3": "3275",
         "4": "0",
         "index": 127
        },
        {
         "0": "41.5",
         "1": "18.3",
         "2": "195",
         "3": "4300",
         "4": "0",
         "index": 128
        },
        {
         "0": "39",
         "1": "17.1",
         "2": "191",
         "3": "3050",
         "4": "0",
         "index": 129
        },
        {
         "0": "44.1",
         "1": "18",
         "2": "210",
         "3": "4000",
         "4": "0",
         "index": 130
        },
        {
         "0": "38.5",
         "1": "17.9",
         "2": "190",
         "3": "3325",
         "4": "0",
         "index": 131
        },
        {
         "0": "43.1",
         "1": "19.2",
         "2": "197",
         "3": "3500",
         "4": "0",
         "index": 132
        },
        {
         "0": "36.8",
         "1": "18.5",
         "2": "193",
         "3": "3500",
         "4": "0",
         "index": 133
        },
        {
         "0": "37.5",
         "1": "18.5",
         "2": "199",
         "3": "4475",
         "4": "0",
         "index": 134
        },
        {
         "0": "38.1",
         "1": "17.6",
         "2": "187",
         "3": "3425",
         "4": "0",
         "index": 135
        },
        {
         "0": "41.1",
         "1": "17.5",
         "2": "190",
         "3": "3900",
         "4": "0",
         "index": 136
        },
        {
         "0": "35.6",
         "1": "17.5",
         "2": "191",
         "3": "3175",
         "4": "0",
         "index": 137
        },
        {
         "0": "40.2",
         "1": "20.1",
         "2": "200",
         "3": "3975",
         "4": "0",
         "index": 138
        },
        {
         "0": "37",
         "1": "16.5",
         "2": "185",
         "3": "3400",
         "4": "0",
         "index": 139
        },
        {
         "0": "39.7",
         "1": "17.9",
         "2": "193",
         "3": "4250",
         "4": "0",
         "index": 140
        },
        {
         "0": "40.2",
         "1": "17.1",
         "2": "193",
         "3": "3400",
         "4": "0",
         "index": 141
        },
        {
         "0": "40.6",
         "1": "17.2",
         "2": "187",
         "3": "3475",
         "4": "0",
         "index": 142
        },
        {
         "0": "32.1",
         "1": "15.5",
         "2": "188",
         "3": "3050",
         "4": "0",
         "index": 143
        },
        {
         "0": "40.7",
         "1": "17",
         "2": "190",
         "3": "3725",
         "4": "0",
         "index": 144
        },
        {
         "0": "37.3",
         "1": "16.8",
         "2": "192",
         "3": "3000",
         "4": "0",
         "index": 145
        },
        {
         "0": "39",
         "1": "18.7",
         "2": "185",
         "3": "3650",
         "4": "0",
         "index": 146
        },
        {
         "0": "39.2",
         "1": "18.6",
         "2": "190",
         "3": "4250",
         "4": "0",
         "index": 147
        },
        {
         "0": "36.6",
         "1": "18.4",
         "2": "184",
         "3": "3475",
         "4": "0",
         "index": 148
        },
        {
         "0": "36",
         "1": "17.8",
         "2": "195",
         "3": "3450",
         "4": "0",
         "index": 149
        },
        {
         "0": "37.8",
         "1": "18.1",
         "2": "193",
         "3": "3750",
         "4": "0",
         "index": 150
        },
        {
         "0": "36",
         "1": "17.1",
         "2": "187",
         "3": "3700",
         "4": "0",
         "index": 151
        },
        {
         "0": "41.5",
         "1": "18.5",
         "2": "201",
         "3": "4000",
         "4": "0",
         "index": 152
        },
        {
         "0": "46.1",
         "1": "13.2",
         "2": "211",
         "3": "4500",
         "4": "1",
         "index": 153
        },
        {
         "0": "50",
         "1": "16.3",
         "2": "230",
         "3": "5700",
         "4": "1",
         "index": 154
        },
        {
         "0": "48.7",
         "1": "14.1",
         "2": "210",
         "3": "4450",
         "4": "1",
         "index": 155
        },
        {
         "0": "50",
         "1": "15.2",
         "2": "218",
         "3": "5700",
         "4": "1",
         "index": 156
        },
        {
         "0": "47.6",
         "1": "14.5",
         "2": "215",
         "3": "5400",
         "4": "1",
         "index": 157
        },
        {
         "0": "46.5",
         "1": "13.5",
         "2": "210",
         "3": "4550",
         "4": "1",
         "index": 158
        },
        {
         "0": "45.4",
         "1": "14.6",
         "2": "211",
         "3": "4800",
         "4": "1",
         "index": 159
        },
        {
         "0": "46.7",
         "1": "15.3",
         "2": "219",
         "3": "5200",
         "4": "1",
         "index": 160
        },
        {
         "0": "43.3",
         "1": "13.4",
         "2": "209",
         "3": "4400",
         "4": "1",
         "index": 161
        },
        {
         "0": "46.8",
         "1": "15.4",
         "2": "215",
         "3": "5150",
         "4": "1",
         "index": 162
        },
        {
         "0": "40.9",
         "1": "13.7",
         "2": "214",
         "3": "4650",
         "4": "1",
         "index": 163
        },
        {
         "0": "49",
         "1": "16.1",
         "2": "216",
         "3": "5550",
         "4": "1",
         "index": 164
        },
        {
         "0": "45.5",
         "1": "13.7",
         "2": "214",
         "3": "4650",
         "4": "1",
         "index": 165
        },
        {
         "0": "48.4",
         "1": "14.6",
         "2": "213",
         "3": "5850",
         "4": "1",
         "index": 166
        },
        {
         "0": "45.8",
         "1": "14.6",
         "2": "210",
         "3": "4200",
         "4": "1",
         "index": 167
        },
        {
         "0": "49.3",
         "1": "15.7",
         "2": "217",
         "3": "5850",
         "4": "1",
         "index": 168
        },
        {
         "0": "42",
         "1": "13.5",
         "2": "210",
         "3": "4150",
         "4": "1",
         "index": 169
        },
        {
         "0": "49.2",
         "1": "15.2",
         "2": "221",
         "3": "6300",
         "4": "1",
         "index": 170
        },
        {
         "0": "46.2",
         "1": "14.5",
         "2": "209",
         "3": "4800",
         "4": "1",
         "index": 171
        },
        {
         "0": "48.7",
         "1": "15.1",
         "2": "222",
         "3": "5350",
         "4": "1",
         "index": 172
        },
        {
         "0": "50.2",
         "1": "14.3",
         "2": "218",
         "3": "5700",
         "4": "1",
         "index": 173
        },
        {
         "0": "45.1",
         "1": "14.5",
         "2": "215",
         "3": "5000",
         "4": "1",
         "index": 174
        },
        {
         "0": "46.5",
         "1": "14.5",
         "2": "213",
         "3": "4400",
         "4": "1",
         "index": 175
        },
        {
         "0": "46.3",
         "1": "15.8",
         "2": "215",
         "3": "5050",
         "4": "1",
         "index": 176
        },
        {
         "0": "42.9",
         "1": "13.1",
         "2": "215",
         "3": "5000",
         "4": "1",
         "index": 177
        },
        {
         "0": "46.1",
         "1": "15.1",
         "2": "215",
         "3": "5100",
         "4": "1",
         "index": 178
        },
        {
         "0": "44.5",
         "1": "14.3",
         "2": "216",
         "3": "4100",
         "4": "1",
         "index": 179
        },
        {
         "0": "47.8",
         "1": "15",
         "2": "215",
         "3": "5650",
         "4": "1",
         "index": 180
        },
        {
         "0": "48.2",
         "1": "14.3",
         "2": "210",
         "3": "4600",
         "4": "1",
         "index": 181
        },
        {
         "0": "50",
         "1": "15.3",
         "2": "220",
         "3": "5550",
         "4": "1",
         "index": 182
        },
        {
         "0": "47.3",
         "1": "15.3",
         "2": "222",
         "3": "5250",
         "4": "1",
         "index": 183
        },
        {
         "0": "42.8",
         "1": "14.2",
         "2": "209",
         "3": "4700",
         "4": "1",
         "index": 184
        },
        {
         "0": "45.1",
         "1": "14.5",
         "2": "207",
         "3": "5050",
         "4": "1",
         "index": 185
        },
        {
         "0": "59.6",
         "1": "17",
         "2": "230",
         "3": "6050",
         "4": "1",
         "index": 186
        },
        {
         "0": "49.1",
         "1": "14.8",
         "2": "220",
         "3": "5150",
         "4": "1",
         "index": 187
        },
        {
         "0": "48.4",
         "1": "16.3",
         "2": "220",
         "3": "5400",
         "4": "1",
         "index": 188
        },
        {
         "0": "42.6",
         "1": "13.7",
         "2": "213",
         "3": "4950",
         "4": "1",
         "index": 189
        },
        {
         "0": "44.4",
         "1": "17.3",
         "2": "219",
         "3": "5250",
         "4": "1",
         "index": 190
        },
        {
         "0": "44",
         "1": "13.6",
         "2": "208",
         "3": "4350",
         "4": "1",
         "index": 191
        },
        {
         "0": "48.7",
         "1": "15.7",
         "2": "208",
         "3": "5350",
         "4": "1",
         "index": 192
        },
        {
         "0": "42.7",
         "1": "13.7",
         "2": "208",
         "3": "3950",
         "4": "1",
         "index": 193
        },
        {
         "0": "49.6",
         "1": "16",
         "2": "225",
         "3": "5700",
         "4": "1",
         "index": 194
        },
        {
         "0": "45.3",
         "1": "13.7",
         "2": "210",
         "3": "4300",
         "4": "1",
         "index": 195
        },
        {
         "0": "49.6",
         "1": "15",
         "2": "216",
         "3": "4750",
         "4": "1",
         "index": 196
        },
        {
         "0": "50.5",
         "1": "15.9",
         "2": "222",
         "3": "5550",
         "4": "1",
         "index": 197
        },
        {
         "0": "43.6",
         "1": "13.9",
         "2": "217",
         "3": "4900",
         "4": "1",
         "index": 198
        },
        {
         "0": "45.5",
         "1": "13.9",
         "2": "210",
         "3": "4200",
         "4": "1",
         "index": 199
        },
        {
         "0": "50.5",
         "1": "15.9",
         "2": "225",
         "3": "5400",
         "4": "1",
         "index": 200
        },
        {
         "0": "44.9",
         "1": "13.3",
         "2": "213",
         "3": "5100",
         "4": "1",
         "index": 201
        },
        {
         "0": "45.2",
         "1": "15.8",
         "2": "215",
         "3": "5300",
         "4": "1",
         "index": 202
        },
        {
         "0": "46.6",
         "1": "14.2",
         "2": "210",
         "3": "4850",
         "4": "1",
         "index": 203
        },
        {
         "0": "48.5",
         "1": "14.1",
         "2": "220",
         "3": "5300",
         "4": "1",
         "index": 204
        },
        {
         "0": "45.1",
         "1": "14.4",
         "2": "210",
         "3": "4400",
         "4": "1",
         "index": 205
        },
        {
         "0": "50.1",
         "1": "15",
         "2": "225",
         "3": "5000",
         "4": "1",
         "index": 206
        },
        {
         "0": "46.5",
         "1": "14.4",
         "2": "217",
         "3": "4900",
         "4": "1",
         "index": 207
        },
        {
         "0": "45",
         "1": "15.4",
         "2": "220",
         "3": "5050",
         "4": "1",
         "index": 208
        },
        {
         "0": "43.8",
         "1": "13.9",
         "2": "208",
         "3": "4300",
         "4": "1",
         "index": 209
        },
        {
         "0": "45.5",
         "1": "15",
         "2": "220",
         "3": "5000",
         "4": "1",
         "index": 210
        },
        {
         "0": "43.2",
         "1": "14.5",
         "2": "208",
         "3": "4450",
         "4": "1",
         "index": 211
        },
        {
         "0": "50.4",
         "1": "15.3",
         "2": "224",
         "3": "5550",
         "4": "1",
         "index": 212
        },
        {
         "0": "45.3",
         "1": "13.8",
         "2": "208",
         "3": "4200",
         "4": "1",
         "index": 213
        },
        {
         "0": "46.2",
         "1": "14.9",
         "2": "221",
         "3": "5300",
         "4": "1",
         "index": 214
        },
        {
         "0": "45.7",
         "1": "13.9",
         "2": "214",
         "3": "4400",
         "4": "1",
         "index": 215
        },
        {
         "0": "54.3",
         "1": "15.7",
         "2": "231",
         "3": "5650",
         "4": "1",
         "index": 216
        },
        {
         "0": "45.8",
         "1": "14.2",
         "2": "219",
         "3": "4700",
         "4": "1",
         "index": 217
        },
        {
         "0": "49.8",
         "1": "16.8",
         "2": "230",
         "3": "5700",
         "4": "1",
         "index": 218
        },
        {
         "0": "46.2",
         "1": "14.4",
         "2": "214",
         "3": "4650",
         "4": "1",
         "index": 219
        },
        {
         "0": "49.5",
         "1": "16.2",
         "2": "229",
         "3": "5800",
         "4": "1",
         "index": 220
        },
        {
         "0": "43.5",
         "1": "14.2",
         "2": "220",
         "3": "4700",
         "4": "1",
         "index": 221
        },
        {
         "0": "50.7",
         "1": "15",
         "2": "223",
         "3": "5550",
         "4": "1",
         "index": 222
        },
        {
         "0": "47.7",
         "1": "15",
         "2": "216",
         "3": "4750",
         "4": "1",
         "index": 223
        },
        {
         "0": "46.4",
         "1": "15.6",
         "2": "221",
         "3": "5000",
         "4": "1",
         "index": 224
        },
        {
         "0": "48.2",
         "1": "15.6",
         "2": "221",
         "3": "5100",
         "4": "1",
         "index": 225
        },
        {
         "0": "46.5",
         "1": "14.8",
         "2": "217",
         "3": "5200",
         "4": "1",
         "index": 226
        },
        {
         "0": "46.4",
         "1": "15",
         "2": "216",
         "3": "4700",
         "4": "1",
         "index": 227
        },
        {
         "0": "48.6",
         "1": "16",
         "2": "230",
         "3": "5800",
         "4": "1",
         "index": 228
        },
        {
         "0": "47.5",
         "1": "14.2",
         "2": "209",
         "3": "4600",
         "4": "1",
         "index": 229
        },
        {
         "0": "51.1",
         "1": "16.3",
         "2": "220",
         "3": "6000",
         "4": "1",
         "index": 230
        },
        {
         "0": "45.2",
         "1": "13.8",
         "2": "215",
         "3": "4750",
         "4": "1",
         "index": 231
        },
        {
         "0": "45.2",
         "1": "16.4",
         "2": "223",
         "3": "5950",
         "4": "1",
         "index": 232
        },
        {
         "0": "49.1",
         "1": "14.5",
         "2": "212",
         "3": "4625",
         "4": "1",
         "index": 233
        },
        {
         "0": "52.5",
         "1": "15.6",
         "2": "221",
         "3": "5450",
         "4": "1",
         "index": 234
        },
        {
         "0": "47.4",
         "1": "14.6",
         "2": "212",
         "3": "4725",
         "4": "1",
         "index": 235
        },
        {
         "0": "50",
         "1": "15.9",
         "2": "224",
         "3": "5350",
         "4": "1",
         "index": 236
        },
        {
         "0": "44.9",
         "1": "13.8",
         "2": "212",
         "3": "4750",
         "4": "1",
         "index": 237
        },
        {
         "0": "50.8",
         "1": "17.3",
         "2": "228",
         "3": "5600",
         "4": "1",
         "index": 238
        },
        {
         "0": "43.4",
         "1": "14.4",
         "2": "218",
         "3": "4600",
         "4": "1",
         "index": 239
        },
        {
         "0": "51.3",
         "1": "14.2",
         "2": "218",
         "3": "5300",
         "4": "1",
         "index": 240
        },
        {
         "0": "47.5",
         "1": "14",
         "2": "212",
         "3": "4875",
         "4": "1",
         "index": 241
        },
        {
         "0": "52.1",
         "1": "17",
         "2": "230",
         "3": "5550",
         "4": "1",
         "index": 242
        },
        {
         "0": "47.5",
         "1": "15",
         "2": "218",
         "3": "4950",
         "4": "1",
         "index": 243
        },
        {
         "0": "52.2",
         "1": "17.1",
         "2": "228",
         "3": "5400",
         "4": "1",
         "index": 244
        },
        {
         "0": "45.5",
         "1": "14.5",
         "2": "212",
         "3": "4750",
         "4": "1",
         "index": 245
        },
        {
         "0": "49.5",
         "1": "16.1",
         "2": "224",
         "3": "5650",
         "4": "1",
         "index": 246
        },
        {
         "0": "44.5",
         "1": "14.7",
         "2": "214",
         "3": "4850",
         "4": "1",
         "index": 247
        },
        {
         "0": "50.8",
         "1": "15.7",
         "2": "226",
         "3": "5200",
         "4": "1",
         "index": 248
        },
        {
         "0": "49.4",
         "1": "15.8",
         "2": "216",
         "3": "4925",
         "4": "1",
         "index": 249
        },
        {
         "0": "46.9",
         "1": "14.6",
         "2": "222",
         "3": "4875",
         "4": "1",
         "index": 250
        },
        {
         "0": "48.4",
         "1": "14.4",
         "2": "203",
         "3": "4625",
         "4": "1",
         "index": 251
        },
        {
         "0": "51.1",
         "1": "16.5",
         "2": "225",
         "3": "5250",
         "4": "1",
         "index": 252
        },
        {
         "0": "48.5",
         "1": "15",
         "2": "219",
         "3": "4850",
         "4": "1",
         "index": 253
        },
        {
         "0": "55.9",
         "1": "17",
         "2": "228",
         "3": "5600",
         "4": "1",
         "index": 254
        },
        {
         "0": "47.2",
         "1": "15.5",
         "2": "215",
         "3": "4975",
         "4": "1",
         "index": 255
        },
        {
         "0": "49.1",
         "1": "15",
         "2": "228",
         "3": "5500",
         "4": "1",
         "index": 256
        },
        {
         "0": "47.3",
         "1": "13.8",
         "2": "216",
         "3": "4725",
         "4": "1",
         "index": 257
        },
        {
         "0": "46.8",
         "1": "16.1",
         "2": "215",
         "3": "5500",
         "4": "1",
         "index": 258
        },
        {
         "0": "41.7",
         "1": "14.7",
         "2": "210",
         "3": "4700",
         "4": "1",
         "index": 259
        },
        {
         "0": "53.4",
         "1": "15.8",
         "2": "219",
         "3": "5500",
         "4": "1",
         "index": 260
        },
        {
         "0": "43.3",
         "1": "14",
         "2": "208",
         "3": "4575",
         "4": "1",
         "index": 261
        },
        {
         "0": "48.1",
         "1": "15.1",
         "2": "209",
         "3": "5500",
         "4": "1",
         "index": 262
        },
        {
         "0": "50.5",
         "1": "15.2",
         "2": "216",
         "3": "5000",
         "4": "1",
         "index": 263
        },
        {
         "0": "49.8",
         "1": "15.9",
         "2": "229",
         "3": "5950",
         "4": "1",
         "index": 264
        },
        {
         "0": "43.5",
         "1": "15.2",
         "2": "213",
         "3": "4650",
         "4": "1",
         "index": 265
        },
        {
         "0": "51.5",
         "1": "16.3",
         "2": "230",
         "3": "5500",
         "4": "1",
         "index": 266
        },
        {
         "0": "46.2",
         "1": "14.1",
         "2": "217",
         "3": "4375",
         "4": "1",
         "index": 267
        },
        {
         "0": "55.1",
         "1": "16",
         "2": "230",
         "3": "5850",
         "4": "1",
         "index": 268
        },
        {
         "0": "44.5",
         "1": "15.7",
         "2": "217",
         "3": "4875",
         "4": "1",
         "index": 269
        },
        {
         "0": "48.8",
         "1": "16.2",
         "2": "222",
         "3": "6000",
         "4": "1",
         "index": 270
        },
        {
         "0": "47.2",
         "1": "13.7",
         "2": "214",
         "3": "4925",
         "4": "1",
         "index": 271
        },
        {
         "4": "1",
         "index": 272
        },
        {
         "0": "46.8",
         "1": "14.3",
         "2": "215",
         "3": "4850",
         "4": "1",
         "index": 273
        },
        {
         "0": "50.4",
         "1": "15.7",
         "2": "222",
         "3": "5750",
         "4": "1",
         "index": 274
        },
        {
         "0": "45.2",
         "1": "14.8",
         "2": "212",
         "3": "5200",
         "4": "1",
         "index": 275
        },
        {
         "0": "49.9",
         "1": "16.1",
         "2": "213",
         "3": "5400",
         "4": "1",
         "index": 276
        },
        {
         "0": "46.5",
         "1": "17.9",
         "2": "192",
         "3": "3500",
         "4": "2",
         "index": 277
        },
        {
         "0": "50",
         "1": "19.5",
         "2": "196",
         "3": "3900",
         "4": "2",
         "index": 278
        },
        {
         "0": "51.3",
         "1": "19.2",
         "2": "193",
         "3": "3650",
         "4": "2",
         "index": 279
        },
        {
         "0": "45.4",
         "1": "18.7",
         "2": "188",
         "3": "3525",
         "4": "2",
         "index": 280
        },
        {
         "0": "52.7",
         "1": "19.8",
         "2": "197",
         "3": "3725",
         "4": "2",
         "index": 281
        },
        {
         "0": "45.2",
         "1": "17.8",
         "2": "198",
         "3": "3950",
         "4": "2",
         "index": 282
        },
        {
         "0": "46.1",
         "1": "18.2",
         "2": "178",
         "3": "3250",
         "4": "2",
         "index": 283
        },
        {
         "0": "51.3",
         "1": "18.2",
         "2": "197",
         "3": "3750",
         "4": "2",
         "index": 284
        },
        {
         "0": "46",
         "1": "18.9",
         "2": "195",
         "3": "4150",
         "4": "2",
         "index": 285
        },
        {
         "0": "51.3",
         "1": "19.9",
         "2": "198",
         "3": "3700",
         "4": "2",
         "index": 286
        },
        {
         "0": "46.6",
         "1": "17.8",
         "2": "193",
         "3": "3800",
         "4": "2",
         "index": 287
        },
        {
         "0": "51.7",
         "1": "20.3",
         "2": "194",
         "3": "3775",
         "4": "2",
         "index": 288
        },
        {
         "0": "47",
         "1": "17.3",
         "2": "185",
         "3": "3700",
         "4": "2",
         "index": 289
        },
        {
         "0": "52",
         "1": "18.1",
         "2": "201",
         "3": "4050",
         "4": "2",
         "index": 290
        },
        {
         "0": "45.9",
         "1": "17.1",
         "2": "190",
         "3": "3575",
         "4": "2",
         "index": 291
        },
        {
         "0": "50.5",
         "1": "19.6",
         "2": "201",
         "3": "4050",
         "4": "2",
         "index": 292
        },
        {
         "0": "50.3",
         "1": "20",
         "2": "197",
         "3": "3300",
         "4": "2",
         "index": 293
        },
        {
         "0": "58",
         "1": "17.8",
         "2": "181",
         "3": "3700",
         "4": "2",
         "index": 294
        },
        {
         "0": "46.4",
         "1": "18.6",
         "2": "190",
         "3": "3450",
         "4": "2",
         "index": 295
        },
        {
         "0": "49.2",
         "1": "18.2",
         "2": "195",
         "3": "4400",
         "4": "2",
         "index": 296
        },
        {
         "0": "42.4",
         "1": "17.3",
         "2": "181",
         "3": "3600",
         "4": "2",
         "index": 297
        },
        {
         "0": "48.5",
         "1": "17.5",
         "2": "191",
         "3": "3400",
         "4": "2",
         "index": 298
        },
        {
         "0": "43.2",
         "1": "16.6",
         "2": "187",
         "3": "2900",
         "4": "2",
         "index": 299
        },
        {
         "0": "50.6",
         "1": "19.4",
         "2": "193",
         "3": "3800",
         "4": "2",
         "index": 300
        },
        {
         "0": "46.7",
         "1": "17.9",
         "2": "195",
         "3": "3300",
         "4": "2",
         "index": 301
        },
        {
         "0": "52",
         "1": "19",
         "2": "197",
         "3": "4150",
         "4": "2",
         "index": 302
        },
        {
         "0": "50.5",
         "1": "18.4",
         "2": "200",
         "3": "3400",
         "4": "2",
         "index": 303
        },
        {
         "0": "49.5",
         "1": "19",
         "2": "200",
         "3": "3800",
         "4": "2",
         "index": 304
        },
        {
         "0": "46.4",
         "1": "17.8",
         "2": "191",
         "3": "3700",
         "4": "2",
         "index": 305
        },
        {
         "0": "52.8",
         "1": "20",
         "2": "205",
         "3": "4550",
         "4": "2",
         "index": 306
        },
        {
         "0": "40.9",
         "1": "16.6",
         "2": "187",
         "3": "3200",
         "4": "2",
         "index": 307
        },
        {
         "0": "54.2",
         "1": "20.8",
         "2": "201",
         "3": "4300",
         "4": "2",
         "index": 308
        },
        {
         "0": "42.5",
         "1": "16.7",
         "2": "187",
         "3": "3350",
         "4": "2",
         "index": 309
        },
        {
         "0": "51",
         "1": "18.8",
         "2": "203",
         "3": "4100",
         "4": "2",
         "index": 310
        },
        {
         "0": "49.7",
         "1": "18.6",
         "2": "195",
         "3": "3600",
         "4": "2",
         "index": 311
        },
        {
         "0": "47.5",
         "1": "16.8",
         "2": "199",
         "3": "3900",
         "4": "2",
         "index": 312
        },
        {
         "0": "47.6",
         "1": "18.3",
         "2": "195",
         "3": "3850",
         "4": "2",
         "index": 313
        },
        {
         "0": "52",
         "1": "20.7",
         "2": "210",
         "3": "4800",
         "4": "2",
         "index": 314
        },
        {
         "0": "46.9",
         "1": "16.6",
         "2": "192",
         "3": "2700",
         "4": "2",
         "index": 315
        },
        {
         "0": "53.5",
         "1": "19.9",
         "2": "205",
         "3": "4500",
         "4": "2",
         "index": 316
        },
        {
         "0": "49",
         "1": "19.5",
         "2": "210",
         "3": "3950",
         "4": "2",
         "index": 317
        },
        {
         "0": "46.2",
         "1": "17.5",
         "2": "187",
         "3": "3650",
         "4": "2",
         "index": 318
        },
        {
         "0": "50.9",
         "1": "19.1",
         "2": "196",
         "3": "3550",
         "4": "2",
         "index": 319
        },
        {
         "0": "45.5",
         "1": "17",
         "2": "196",
         "3": "3500",
         "4": "2",
         "index": 320
        },
        {
         "0": "50.9",
         "1": "17.9",
         "2": "196",
         "3": "3675",
         "4": "2",
         "index": 321
        },
        {
         "0": "50.8",
         "1": "18.5",
         "2": "201",
         "3": "4450",
         "4": "2",
         "index": 322
        },
        {
         "0": "50.1",
         "1": "17.9",
         "2": "190",
         "3": "3400",
         "4": "2",
         "index": 323
        },
        {
         "0": "49",
         "1": "19.6",
         "2": "212",
         "3": "4300",
         "4": "2",
         "index": 324
        },
        {
         "0": "51.5",
         "1": "18.7",
         "2": "187",
         "3": "3250",
         "4": "2",
         "index": 325
        },
        {
         "0": "49.8",
         "1": "17.3",
         "2": "198",
         "3": "3675",
         "4": "2",
         "index": 326
        },
        {
         "0": "48.1",
         "1": "16.4",
         "2": "199",
         "3": "3325",
         "4": "2",
         "index": 327
        },
        {
         "0": "51.4",
         "1": "19",
         "2": "201",
         "3": "3950",
         "4": "2",
         "index": 328
        },
        {
         "0": "45.7",
         "1": "17.3",
         "2": "193",
         "3": "3600",
         "4": "2",
         "index": 329
        },
        {
         "0": "50.7",
         "1": "19.7",
         "2": "203",
         "3": "4050",
         "4": "2",
         "index": 330
        },
        {
         "0": "42.5",
         "1": "17.3",
         "2": "187",
         "3": "3350",
         "4": "2",
         "index": 331
        },
        {
         "0": "52.2",
         "1": "18.8",
         "2": "197",
         "3": "3450",
         "4": "2",
         "index": 332
        },
        {
         "0": "45.2",
         "1": "16.6",
         "2": "191",
         "3": "3250",
         "4": "2",
         "index": 333
        },
        {
         "0": "49.3",
         "1": "19.9",
         "2": "203",
         "3": "4050",
         "4": "2",
         "index": 334
        },
        {
         "0": "50.2",
         "1": "18.8",
         "2": "202",
         "3": "3800",
         "4": "2",
         "index": 335
        },
        {
         "0": "45.6",
         "1": "19.4",
         "2": "194",
         "3": "3525",
         "4": "2",
         "index": 336
        },
        {
         "0": "51.9",
         "1": "19.5",
         "2": "206",
         "3": "3950",
         "4": "2",
         "index": 337
        },
        {
         "0": "46.8",
         "1": "16.5",
         "2": "189",
         "3": "3650",
         "4": "2",
         "index": 338
        },
        {
         "0": "45.7",
         "1": "17",
         "2": "195",
         "3": "3650",
         "4": "2",
         "index": 339
        },
        {
         "0": "55.8",
         "1": "19.8",
         "2": "207",
         "3": "4000",
         "4": "2",
         "index": 340
        },
        {
         "0": "43.5",
         "1": "18.1",
         "2": "202",
         "3": "3400",
         "4": "2",
         "index": 341
        },
        {
         "0": "49.6",
         "1": "18.2",
         "2": "193",
         "3": "3775",
         "4": "2",
         "index": 342
        },
        {
         "0": "50.8",
         "1": "19",
         "2": "210",
         "3": "4100",
         "4": "2",
         "index": 343
        },
        {
         "0": "50.2",
         "1": "18.7",
         "2": "198",
         "3": "3775",
         "4": "2",
         "index": 344
        }
       ],
       "schema": [
        {
         "key": "0",
         "name": "CulmenLength",
         "type": "string"
        },
        {
         "key": "1",
         "name": "CulmenDepth",
         "type": "string"
        },
        {
         "key": "2",
         "name": "FlipperLength",
         "type": "string"
        },
        {
         "key": "3",
         "name": "BodyMass",
         "type": "string"
        },
        {
         "key": "4",
         "name": "Species",
         "type": "string"
        }
       ],
       "truncated": false
      }
     },
     "type": "Synapse.DataFrame"
    },
    "b3a9052e-6a8d-4565-9eab-c6bff9d1938f": {
     "persist_state": {
      "view": {
       "chartOptions": {
        "aggregationType": "sum",
        "categoryFieldKeys": [
         "4"
        ],
        "chartType": "bar",
        "isStacked": false,
        "seriesFieldKeys": [
         "0"
        ]
       },
       "tableOptions": {},
       "type": "details"
      }
     },
     "sync_state": {
      "isSummary": false,
      "language": "scala",
      "table": {
       "rows": [
        {
         "0": "39.1",
         "1": "18.7",
         "2": "181.0",
         "3": "3750.0",
         "4": "0",
         "index": 1
        },
        {
         "0": "39.5",
         "1": "17.4",
         "2": "186.0",
         "3": "3800.0",
         "4": "0",
         "index": 2
        },
        {
         "0": "40.3",
         "1": "18.0",
         "2": "195.0",
         "3": "3250.0",
         "4": "0",
         "index": 3
        },
        {
         "0": "36.7",
         "1": "19.3",
         "2": "193.0",
         "3": "3450.0",
         "4": "0",
         "index": 4
        },
        {
         "0": "39.3",
         "1": "20.6",
         "2": "190.0",
         "3": "3650.0",
         "4": "0",
         "index": 5
        },
        {
         "0": "38.9",
         "1": "17.8",
         "2": "181.0",
         "3": "3625.0",
         "4": "0",
         "index": 6
        },
        {
         "0": "39.2",
         "1": "19.6",
         "2": "195.0",
         "3": "4675.0",
         "4": "0",
         "index": 7
        },
        {
         "0": "34.1",
         "1": "18.1",
         "2": "193.0",
         "3": "3475.0",
         "4": "0",
         "index": 8
        },
        {
         "0": "42.0",
         "1": "20.2",
         "2": "190.0",
         "3": "4250.0",
         "4": "0",
         "index": 9
        },
        {
         "0": "37.8",
         "1": "17.1",
         "2": "186.0",
         "3": "3300.0",
         "4": "0",
         "index": 10
        },
        {
         "0": "37.8",
         "1": "17.3",
         "2": "180.0",
         "3": "3700.0",
         "4": "0",
         "index": 11
        },
        {
         "0": "41.1",
         "1": "17.6",
         "2": "182.0",
         "3": "3200.0",
         "4": "0",
         "index": 12
        },
        {
         "0": "38.6",
         "1": "21.2",
         "2": "191.0",
         "3": "3800.0",
         "4": "0",
         "index": 13
        },
        {
         "0": "34.6",
         "1": "21.1",
         "2": "198.0",
         "3": "4400.0",
         "4": "0",
         "index": 14
        },
        {
         "0": "36.6",
         "1": "17.8",
         "2": "185.0",
         "3": "3700.0",
         "4": "0",
         "index": 15
        },
        {
         "0": "38.7",
         "1": "19.0",
         "2": "195.0",
         "3": "3450.0",
         "4": "0",
         "index": 16
        },
        {
         "0": "42.5",
         "1": "20.7",
         "2": "197.0",
         "3": "4500.0",
         "4": "0",
         "index": 17
        },
        {
         "0": "34.4",
         "1": "18.4",
         "2": "184.0",
         "3": "3325.0",
         "4": "0",
         "index": 18
        },
        {
         "0": "46.0",
         "1": "21.5",
         "2": "194.0",
         "3": "4200.0",
         "4": "0",
         "index": 19
        },
        {
         "0": "37.8",
         "1": "18.3",
         "2": "174.0",
         "3": "3400.0",
         "4": "0",
         "index": 20
        },
        {
         "0": "37.7",
         "1": "18.7",
         "2": "180.0",
         "3": "3600.0",
         "4": "0",
         "index": 21
        },
        {
         "0": "35.9",
         "1": "19.2",
         "2": "189.0",
         "3": "3800.0",
         "4": "0",
         "index": 22
        },
        {
         "0": "38.2",
         "1": "18.1",
         "2": "185.0",
         "3": "3950.0",
         "4": "0",
         "index": 23
        },
        {
         "0": "38.8",
         "1": "17.2",
         "2": "180.0",
         "3": "3800.0",
         "4": "0",
         "index": 24
        },
        {
         "0": "35.3",
         "1": "18.9",
         "2": "187.0",
         "3": "3800.0",
         "4": "0",
         "index": 25
        },
        {
         "0": "40.6",
         "1": "18.6",
         "2": "183.0",
         "3": "3550.0",
         "4": "0",
         "index": 26
        },
        {
         "0": "40.5",
         "1": "17.9",
         "2": "187.0",
         "3": "3200.0",
         "4": "0",
         "index": 27
        },
        {
         "0": "37.9",
         "1": "18.6",
         "2": "172.0",
         "3": "3150.0",
         "4": "0",
         "index": 28
        },
        {
         "0": "40.5",
         "1": "18.9",
         "2": "180.0",
         "3": "3950.0",
         "4": "0",
         "index": 29
        },
        {
         "0": "39.5",
         "1": "16.7",
         "2": "178.0",
         "3": "3250.0",
         "4": "0",
         "index": 30
        },
        {
         "0": "37.2",
         "1": "18.1",
         "2": "178.0",
         "3": "3900.0",
         "4": "0",
         "index": 31
        },
        {
         "0": "39.5",
         "1": "17.8",
         "2": "188.0",
         "3": "3300.0",
         "4": "0",
         "index": 32
        },
        {
         "0": "40.9",
         "1": "18.9",
         "2": "184.0",
         "3": "3900.0",
         "4": "0",
         "index": 33
        },
        {
         "0": "36.4",
         "1": "17.0",
         "2": "195.0",
         "3": "3325.0",
         "4": "0",
         "index": 34
        },
        {
         "0": "39.2",
         "1": "21.1",
         "2": "196.0",
         "3": "4150.0",
         "4": "0",
         "index": 35
        },
        {
         "0": "38.8",
         "1": "20.0",
         "2": "190.0",
         "3": "3950.0",
         "4": "0",
         "index": 36
        },
        {
         "0": "42.2",
         "1": "18.5",
         "2": "180.0",
         "3": "3550.0",
         "4": "0",
         "index": 37
        },
        {
         "0": "37.6",
         "1": "19.3",
         "2": "181.0",
         "3": "3300.0",
         "4": "0",
         "index": 38
        },
        {
         "0": "39.8",
         "1": "19.1",
         "2": "184.0",
         "3": "4650.0",
         "4": "0",
         "index": 39
        },
        {
         "0": "36.5",
         "1": "18.0",
         "2": "182.0",
         "3": "3150.0",
         "4": "0",
         "index": 40
        },
        {
         "0": "40.8",
         "1": "18.4",
         "2": "195.0",
         "3": "3900.0",
         "4": "0",
         "index": 41
        },
        {
         "0": "36.0",
         "1": "18.5",
         "2": "186.0",
         "3": "3100.0",
         "4": "0",
         "index": 42
        },
        {
         "0": "44.1",
         "1": "19.7",
         "2": "196.0",
         "3": "4400.0",
         "4": "0",
         "index": 43
        },
        {
         "0": "37.0",
         "1": "16.9",
         "2": "185.0",
         "3": "3000.0",
         "4": "0",
         "index": 44
        },
        {
         "0": "39.6",
         "1": "18.8",
         "2": "190.0",
         "3": "4600.0",
         "4": "0",
         "index": 45
        },
        {
         "0": "41.1",
         "1": "19.0",
         "2": "182.0",
         "3": "3425.0",
         "4": "0",
         "index": 46
        },
        {
         "0": "37.5",
         "1": "18.9",
         "2": "179.0",
         "3": "2975.0",
         "4": "0",
         "index": 47
        },
        {
         "0": "36.0",
         "1": "17.9",
         "2": "190.0",
         "3": "3450.0",
         "4": "0",
         "index": 48
        },
        {
         "0": "42.3",
         "1": "21.2",
         "2": "191.0",
         "3": "4150.0",
         "4": "0",
         "index": 49
        },
        {
         "0": "39.6",
         "1": "17.7",
         "2": "186.0",
         "3": "3500.0",
         "4": "0",
         "index": 50
        },
        {
         "0": "40.1",
         "1": "18.9",
         "2": "188.0",
         "3": "4300.0",
         "4": "0",
         "index": 51
        },
        {
         "0": "35.0",
         "1": "17.9",
         "2": "190.0",
         "3": "3450.0",
         "4": "0",
         "index": 52
        },
        {
         "0": "42.0",
         "1": "19.5",
         "2": "200.0",
         "3": "4050.0",
         "4": "0",
         "index": 53
        },
        {
         "0": "34.5",
         "1": "18.1",
         "2": "187.0",
         "3": "2900.0",
         "4": "0",
         "index": 54
        },
        {
         "0": "41.4",
         "1": "18.6",
         "2": "191.0",
         "3": "3700.0",
         "4": "0",
         "index": 55
        },
        {
         "0": "39.0",
         "1": "17.5",
         "2": "186.0",
         "3": "3550.0",
         "4": "0",
         "index": 56
        },
        {
         "0": "40.6",
         "1": "18.8",
         "2": "193.0",
         "3": "3800.0",
         "4": "0",
         "index": 57
        },
        {
         "0": "36.5",
         "1": "16.6",
         "2": "181.0",
         "3": "2850.0",
         "4": "0",
         "index": 58
        },
        {
         "0": "37.6",
         "1": "19.1",
         "2": "194.0",
         "3": "3750.0",
         "4": "0",
         "index": 59
        },
        {
         "0": "35.7",
         "1": "16.9",
         "2": "185.0",
         "3": "3150.0",
         "4": "0",
         "index": 60
        },
        {
         "0": "41.3",
         "1": "21.1",
         "2": "195.0",
         "3": "4400.0",
         "4": "0",
         "index": 61
        },
        {
         "0": "37.6",
         "1": "17.0",
         "2": "185.0",
         "3": "3600.0",
         "4": "0",
         "index": 62
        },
        {
         "0": "41.1",
         "1": "18.2",
         "2": "192.0",
         "3": "4050.0",
         "4": "0",
         "index": 63
        },
        {
         "0": "36.4",
         "1": "17.1",
         "2": "184.0",
         "3": "2850.0",
         "4": "0",
         "index": 64
        },
        {
         "0": "41.6",
         "1": "18.0",
         "2": "192.0",
         "3": "3950.0",
         "4": "0",
         "index": 65
        },
        {
         "0": "35.5",
         "1": "16.2",
         "2": "195.0",
         "3": "3350.0",
         "4": "0",
         "index": 66
        },
        {
         "0": "41.1",
         "1": "19.1",
         "2": "188.0",
         "3": "4100.0",
         "4": "0",
         "index": 67
        },
        {
         "0": "35.9",
         "1": "16.6",
         "2": "190.0",
         "3": "3050.0",
         "4": "0",
         "index": 68
        },
        {
         "0": "41.8",
         "1": "19.4",
         "2": "198.0",
         "3": "4450.0",
         "4": "0",
         "index": 69
        },
        {
         "0": "33.5",
         "1": "19.0",
         "2": "190.0",
         "3": "3600.0",
         "4": "0",
         "index": 70
        },
        {
         "0": "39.7",
         "1": "18.4",
         "2": "190.0",
         "3": "3900.0",
         "4": "0",
         "index": 71
        },
        {
         "0": "39.6",
         "1": "17.2",
         "2": "196.0",
         "3": "3550.0",
         "4": "0",
         "index": 72
        },
        {
         "0": "45.8",
         "1": "18.9",
         "2": "197.0",
         "3": "4150.0",
         "4": "0",
         "index": 73
        },
        {
         "0": "35.5",
         "1": "17.5",
         "2": "190.0",
         "3": "3700.0",
         "4": "0",
         "index": 74
        },
        {
         "0": "42.8",
         "1": "18.5",
         "2": "195.0",
         "3": "4250.0",
         "4": "0",
         "index": 75
        },
        {
         "0": "40.9",
         "1": "16.8",
         "2": "191.0",
         "3": "3700.0",
         "4": "0",
         "index": 76
        },
        {
         "0": "37.2",
         "1": "19.4",
         "2": "184.0",
         "3": "3900.0",
         "4": "0",
         "index": 77
        },
        {
         "0": "36.2",
         "1": "16.1",
         "2": "187.0",
         "3": "3550.0",
         "4": "0",
         "index": 78
        },
        {
         "0": "42.1",
         "1": "19.1",
         "2": "195.0",
         "3": "4000.0",
         "4": "0",
         "index": 79
        },
        {
         "0": "34.6",
         "1": "17.2",
         "2": "189.0",
         "3": "3200.0",
         "4": "0",
         "index": 80
        },
        {
         "0": "42.9",
         "1": "17.6",
         "2": "196.0",
         "3": "4700.0",
         "4": "0",
         "index": 81
        },
        {
         "0": "36.7",
         "1": "18.8",
         "2": "187.0",
         "3": "3800.0",
         "4": "0",
         "index": 82
        },
        {
         "0": "35.1",
         "1": "19.4",
         "2": "193.0",
         "3": "4200.0",
         "4": "0",
         "index": 83
        },
        {
         "0": "37.3",
         "1": "17.8",
         "2": "191.0",
         "3": "3350.0",
         "4": "0",
         "index": 84
        },
        {
         "0": "41.3",
         "1": "20.3",
         "2": "194.0",
         "3": "3550.0",
         "4": "0",
         "index": 85
        },
        {
         "0": "36.3",
         "1": "19.5",
         "2": "190.0",
         "3": "3800.0",
         "4": "0",
         "index": 86
        },
        {
         "0": "36.9",
         "1": "18.6",
         "2": "189.0",
         "3": "3500.0",
         "4": "0",
         "index": 87
        },
        {
         "0": "38.3",
         "1": "19.2",
         "2": "189.0",
         "3": "3950.0",
         "4": "0",
         "index": 88
        },
        {
         "0": "38.9",
         "1": "18.8",
         "2": "190.0",
         "3": "3600.0",
         "4": "0",
         "index": 89
        },
        {
         "0": "35.7",
         "1": "18.0",
         "2": "202.0",
         "3": "3550.0",
         "4": "0",
         "index": 90
        },
        {
         "0": "41.1",
         "1": "18.1",
         "2": "205.0",
         "3": "4300.0",
         "4": "0",
         "index": 91
        },
        {
         "0": "34.0",
         "1": "17.1",
         "2": "185.0",
         "3": "3400.0",
         "4": "0",
         "index": 92
        },
        {
         "0": "39.6",
         "1": "18.1",
         "2": "186.0",
         "3": "4450.0",
         "4": "0",
         "index": 93
        },
        {
         "0": "36.2",
         "1": "17.3",
         "2": "187.0",
         "3": "3300.0",
         "4": "0",
         "index": 94
        },
        {
         "0": "40.8",
         "1": "18.9",
         "2": "208.0",
         "3": "4300.0",
         "4": "0",
         "index": 95
        },
        {
         "0": "38.1",
         "1": "18.6",
         "2": "190.0",
         "3": "3700.0",
         "4": "0",
         "index": 96
        },
        {
         "0": "40.3",
         "1": "18.5",
         "2": "196.0",
         "3": "4350.0",
         "4": "0",
         "index": 97
        },
        {
         "0": "33.1",
         "1": "16.1",
         "2": "178.0",
         "3": "2900.0",
         "4": "0",
         "index": 98
        },
        {
         "0": "43.2",
         "1": "18.5",
         "2": "192.0",
         "3": "4100.0",
         "4": "0",
         "index": 99
        },
        {
         "0": "35.0",
         "1": "17.9",
         "2": "192.0",
         "3": "3725.0",
         "4": "0",
         "index": 100
        },
        {
         "0": "41.0",
         "1": "20.0",
         "2": "203.0",
         "3": "4725.0",
         "4": "0",
         "index": 101
        },
        {
         "0": "37.7",
         "1": "16.0",
         "2": "183.0",
         "3": "3075.0",
         "4": "0",
         "index": 102
        },
        {
         "0": "37.8",
         "1": "20.0",
         "2": "190.0",
         "3": "4250.0",
         "4": "0",
         "index": 103
        },
        {
         "0": "37.9",
         "1": "18.6",
         "2": "193.0",
         "3": "2925.0",
         "4": "0",
         "index": 104
        },
        {
         "0": "39.7",
         "1": "18.9",
         "2": "184.0",
         "3": "3550.0",
         "4": "0",
         "index": 105
        },
        {
         "0": "38.6",
         "1": "17.2",
         "2": "199.0",
         "3": "3750.0",
         "4": "0",
         "index": 106
        },
        {
         "0": "38.2",
         "1": "20.0",
         "2": "190.0",
         "3": "3900.0",
         "4": "0",
         "index": 107
        },
        {
         "0": "38.1",
         "1": "17.0",
         "2": "181.0",
         "3": "3175.0",
         "4": "0",
         "index": 108
        },
        {
         "0": "43.2",
         "1": "19.0",
         "2": "197.0",
         "3": "4775.0",
         "4": "0",
         "index": 109
        },
        {
         "0": "38.1",
         "1": "16.5",
         "2": "198.0",
         "3": "3825.0",
         "4": "0",
         "index": 110
        },
        {
         "0": "45.6",
         "1": "20.3",
         "2": "191.0",
         "3": "4600.0",
         "4": "0",
         "index": 111
        },
        {
         "0": "39.7",
         "1": "17.7",
         "2": "193.0",
         "3": "3200.0",
         "4": "0",
         "index": 112
        },
        {
         "0": "42.2",
         "1": "19.5",
         "2": "197.0",
         "3": "4275.0",
         "4": "0",
         "index": 113
        },
        {
         "0": "39.6",
         "1": "20.7",
         "2": "191.0",
         "3": "3900.0",
         "4": "0",
         "index": 114
        },
        {
         "0": "42.7",
         "1": "18.3",
         "2": "196.0",
         "3": "4075.0",
         "4": "0",
         "index": 115
        },
        {
         "0": "38.6",
         "1": "17.0",
         "2": "188.0",
         "3": "2900.0",
         "4": "0",
         "index": 116
        },
        {
         "0": "37.3",
         "1": "20.5",
         "2": "199.0",
         "3": "3775.0",
         "4": "0",
         "index": 117
        },
        {
         "0": "35.7",
         "1": "17.0",
         "2": "189.0",
         "3": "3350.0",
         "4": "0",
         "index": 118
        },
        {
         "0": "41.1",
         "1": "18.6",
         "2": "189.0",
         "3": "3325.0",
         "4": "0",
         "index": 119
        },
        {
         "0": "36.2",
         "1": "17.2",
         "2": "187.0",
         "3": "3150.0",
         "4": "0",
         "index": 120
        },
        {
         "0": "37.7",
         "1": "19.8",
         "2": "198.0",
         "3": "3500.0",
         "4": "0",
         "index": 121
        },
        {
         "0": "40.2",
         "1": "17.0",
         "2": "176.0",
         "3": "3450.0",
         "4": "0",
         "index": 122
        },
        {
         "0": "41.4",
         "1": "18.5",
         "2": "202.0",
         "3": "3875.0",
         "4": "0",
         "index": 123
        },
        {
         "0": "35.2",
         "1": "15.9",
         "2": "186.0",
         "3": "3050.0",
         "4": "0",
         "index": 124
        },
        {
         "0": "40.6",
         "1": "19.0",
         "2": "199.0",
         "3": "4000.0",
         "4": "0",
         "index": 125
        },
        {
         "0": "38.8",
         "1": "17.6",
         "2": "191.0",
         "3": "3275.0",
         "4": "0",
         "index": 126
        },
        {
         "0": "41.5",
         "1": "18.3",
         "2": "195.0",
         "3": "4300.0",
         "4": "0",
         "index": 127
        },
        {
         "0": "39.0",
         "1": "17.1",
         "2": "191.0",
         "3": "3050.0",
         "4": "0",
         "index": 128
        },
        {
         "0": "44.1",
         "1": "18.0",
         "2": "210.0",
         "3": "4000.0",
         "4": "0",
         "index": 129
        },
        {
         "0": "38.5",
         "1": "17.9",
         "2": "190.0",
         "3": "3325.0",
         "4": "0",
         "index": 130
        },
        {
         "0": "43.1",
         "1": "19.2",
         "2": "197.0",
         "3": "3500.0",
         "4": "0",
         "index": 131
        },
        {
         "0": "36.8",
         "1": "18.5",
         "2": "193.0",
         "3": "3500.0",
         "4": "0",
         "index": 132
        },
        {
         "0": "37.5",
         "1": "18.5",
         "2": "199.0",
         "3": "4475.0",
         "4": "0",
         "index": 133
        },
        {
         "0": "38.1",
         "1": "17.6",
         "2": "187.0",
         "3": "3425.0",
         "4": "0",
         "index": 134
        },
        {
         "0": "41.1",
         "1": "17.5",
         "2": "190.0",
         "3": "3900.0",
         "4": "0",
         "index": 135
        },
        {
         "0": "35.6",
         "1": "17.5",
         "2": "191.0",
         "3": "3175.0",
         "4": "0",
         "index": 136
        },
        {
         "0": "40.2",
         "1": "20.1",
         "2": "200.0",
         "3": "3975.0",
         "4": "0",
         "index": 137
        },
        {
         "0": "37.0",
         "1": "16.5",
         "2": "185.0",
         "3": "3400.0",
         "4": "0",
         "index": 138
        },
        {
         "0": "39.7",
         "1": "17.9",
         "2": "193.0",
         "3": "4250.0",
         "4": "0",
         "index": 139
        },
        {
         "0": "40.2",
         "1": "17.1",
         "2": "193.0",
         "3": "3400.0",
         "4": "0",
         "index": 140
        },
        {
         "0": "40.6",
         "1": "17.2",
         "2": "187.0",
         "3": "3475.0",
         "4": "0",
         "index": 141
        },
        {
         "0": "32.1",
         "1": "15.5",
         "2": "188.0",
         "3": "3050.0",
         "4": "0",
         "index": 142
        },
        {
         "0": "40.7",
         "1": "17.0",
         "2": "190.0",
         "3": "3725.0",
         "4": "0",
         "index": 143
        },
        {
         "0": "37.3",
         "1": "16.8",
         "2": "192.0",
         "3": "3000.0",
         "4": "0",
         "index": 144
        },
        {
         "0": "39.0",
         "1": "18.7",
         "2": "185.0",
         "3": "3650.0",
         "4": "0",
         "index": 145
        },
        {
         "0": "39.2",
         "1": "18.6",
         "2": "190.0",
         "3": "4250.0",
         "4": "0",
         "index": 146
        },
        {
         "0": "36.6",
         "1": "18.4",
         "2": "184.0",
         "3": "3475.0",
         "4": "0",
         "index": 147
        },
        {
         "0": "36.0",
         "1": "17.8",
         "2": "195.0",
         "3": "3450.0",
         "4": "0",
         "index": 148
        },
        {
         "0": "37.8",
         "1": "18.1",
         "2": "193.0",
         "3": "3750.0",
         "4": "0",
         "index": 149
        },
        {
         "0": "36.0",
         "1": "17.1",
         "2": "187.0",
         "3": "3700.0",
         "4": "0",
         "index": 150
        },
        {
         "0": "41.5",
         "1": "18.5",
         "2": "201.0",
         "3": "4000.0",
         "4": "0",
         "index": 151
        },
        {
         "0": "46.1",
         "1": "13.2",
         "2": "211.0",
         "3": "4500.0",
         "4": "1",
         "index": 152
        },
        {
         "0": "50.0",
         "1": "16.3",
         "2": "230.0",
         "3": "5700.0",
         "4": "1",
         "index": 153
        },
        {
         "0": "48.7",
         "1": "14.1",
         "2": "210.0",
         "3": "4450.0",
         "4": "1",
         "index": 154
        },
        {
         "0": "50.0",
         "1": "15.2",
         "2": "218.0",
         "3": "5700.0",
         "4": "1",
         "index": 155
        },
        {
         "0": "47.6",
         "1": "14.5",
         "2": "215.0",
         "3": "5400.0",
         "4": "1",
         "index": 156
        },
        {
         "0": "46.5",
         "1": "13.5",
         "2": "210.0",
         "3": "4550.0",
         "4": "1",
         "index": 157
        },
        {
         "0": "45.4",
         "1": "14.6",
         "2": "211.0",
         "3": "4800.0",
         "4": "1",
         "index": 158
        },
        {
         "0": "46.7",
         "1": "15.3",
         "2": "219.0",
         "3": "5200.0",
         "4": "1",
         "index": 159
        },
        {
         "0": "43.3",
         "1": "13.4",
         "2": "209.0",
         "3": "4400.0",
         "4": "1",
         "index": 160
        },
        {
         "0": "46.8",
         "1": "15.4",
         "2": "215.0",
         "3": "5150.0",
         "4": "1",
         "index": 161
        },
        {
         "0": "40.9",
         "1": "13.7",
         "2": "214.0",
         "3": "4650.0",
         "4": "1",
         "index": 162
        },
        {
         "0": "49.0",
         "1": "16.1",
         "2": "216.0",
         "3": "5550.0",
         "4": "1",
         "index": 163
        },
        {
         "0": "45.5",
         "1": "13.7",
         "2": "214.0",
         "3": "4650.0",
         "4": "1",
         "index": 164
        },
        {
         "0": "48.4",
         "1": "14.6",
         "2": "213.0",
         "3": "5850.0",
         "4": "1",
         "index": 165
        },
        {
         "0": "45.8",
         "1": "14.6",
         "2": "210.0",
         "3": "4200.0",
         "4": "1",
         "index": 166
        },
        {
         "0": "49.3",
         "1": "15.7",
         "2": "217.0",
         "3": "5850.0",
         "4": "1",
         "index": 167
        },
        {
         "0": "42.0",
         "1": "13.5",
         "2": "210.0",
         "3": "4150.0",
         "4": "1",
         "index": 168
        },
        {
         "0": "49.2",
         "1": "15.2",
         "2": "221.0",
         "3": "6300.0",
         "4": "1",
         "index": 169
        },
        {
         "0": "46.2",
         "1": "14.5",
         "2": "209.0",
         "3": "4800.0",
         "4": "1",
         "index": 170
        },
        {
         "0": "48.7",
         "1": "15.1",
         "2": "222.0",
         "3": "5350.0",
         "4": "1",
         "index": 171
        },
        {
         "0": "50.2",
         "1": "14.3",
         "2": "218.0",
         "3": "5700.0",
         "4": "1",
         "index": 172
        },
        {
         "0": "45.1",
         "1": "14.5",
         "2": "215.0",
         "3": "5000.0",
         "4": "1",
         "index": 173
        },
        {
         "0": "46.5",
         "1": "14.5",
         "2": "213.0",
         "3": "4400.0",
         "4": "1",
         "index": 174
        },
        {
         "0": "46.3",
         "1": "15.8",
         "2": "215.0",
         "3": "5050.0",
         "4": "1",
         "index": 175
        },
        {
         "0": "42.9",
         "1": "13.1",
         "2": "215.0",
         "3": "5000.0",
         "4": "1",
         "index": 176
        },
        {
         "0": "46.1",
         "1": "15.1",
         "2": "215.0",
         "3": "5100.0",
         "4": "1",
         "index": 177
        },
        {
         "0": "44.5",
         "1": "14.3",
         "2": "216.0",
         "3": "4100.0",
         "4": "1",
         "index": 178
        },
        {
         "0": "47.8",
         "1": "15.0",
         "2": "215.0",
         "3": "5650.0",
         "4": "1",
         "index": 179
        },
        {
         "0": "48.2",
         "1": "14.3",
         "2": "210.0",
         "3": "4600.0",
         "4": "1",
         "index": 180
        },
        {
         "0": "50.0",
         "1": "15.3",
         "2": "220.0",
         "3": "5550.0",
         "4": "1",
         "index": 181
        },
        {
         "0": "47.3",
         "1": "15.3",
         "2": "222.0",
         "3": "5250.0",
         "4": "1",
         "index": 182
        },
        {
         "0": "42.8",
         "1": "14.2",
         "2": "209.0",
         "3": "4700.0",
         "4": "1",
         "index": 183
        },
        {
         "0": "45.1",
         "1": "14.5",
         "2": "207.0",
         "3": "5050.0",
         "4": "1",
         "index": 184
        },
        {
         "0": "59.6",
         "1": "17.0",
         "2": "230.0",
         "3": "6050.0",
         "4": "1",
         "index": 185
        },
        {
         "0": "49.1",
         "1": "14.8",
         "2": "220.0",
         "3": "5150.0",
         "4": "1",
         "index": 186
        },
        {
         "0": "48.4",
         "1": "16.3",
         "2": "220.0",
         "3": "5400.0",
         "4": "1",
         "index": 187
        },
        {
         "0": "42.6",
         "1": "13.7",
         "2": "213.0",
         "3": "4950.0",
         "4": "1",
         "index": 188
        },
        {
         "0": "44.4",
         "1": "17.3",
         "2": "219.0",
         "3": "5250.0",
         "4": "1",
         "index": 189
        },
        {
         "0": "44.0",
         "1": "13.6",
         "2": "208.0",
         "3": "4350.0",
         "4": "1",
         "index": 190
        },
        {
         "0": "48.7",
         "1": "15.7",
         "2": "208.0",
         "3": "5350.0",
         "4": "1",
         "index": 191
        },
        {
         "0": "42.7",
         "1": "13.7",
         "2": "208.0",
         "3": "3950.0",
         "4": "1",
         "index": 192
        },
        {
         "0": "49.6",
         "1": "16.0",
         "2": "225.0",
         "3": "5700.0",
         "4": "1",
         "index": 193
        },
        {
         "0": "45.3",
         "1": "13.7",
         "2": "210.0",
         "3": "4300.0",
         "4": "1",
         "index": 194
        },
        {
         "0": "49.6",
         "1": "15.0",
         "2": "216.0",
         "3": "4750.0",
         "4": "1",
         "index": 195
        },
        {
         "0": "50.5",
         "1": "15.9",
         "2": "222.0",
         "3": "5550.0",
         "4": "1",
         "index": 196
        },
        {
         "0": "43.6",
         "1": "13.9",
         "2": "217.0",
         "3": "4900.0",
         "4": "1",
         "index": 197
        },
        {
         "0": "45.5",
         "1": "13.9",
         "2": "210.0",
         "3": "4200.0",
         "4": "1",
         "index": 198
        },
        {
         "0": "50.5",
         "1": "15.9",
         "2": "225.0",
         "3": "5400.0",
         "4": "1",
         "index": 199
        },
        {
         "0": "44.9",
         "1": "13.3",
         "2": "213.0",
         "3": "5100.0",
         "4": "1",
         "index": 200
        },
        {
         "0": "45.2",
         "1": "15.8",
         "2": "215.0",
         "3": "5300.0",
         "4": "1",
         "index": 201
        },
        {
         "0": "46.6",
         "1": "14.2",
         "2": "210.0",
         "3": "4850.0",
         "4": "1",
         "index": 202
        },
        {
         "0": "48.5",
         "1": "14.1",
         "2": "220.0",
         "3": "5300.0",
         "4": "1",
         "index": 203
        },
        {
         "0": "45.1",
         "1": "14.4",
         "2": "210.0",
         "3": "4400.0",
         "4": "1",
         "index": 204
        },
        {
         "0": "50.1",
         "1": "15.0",
         "2": "225.0",
         "3": "5000.0",
         "4": "1",
         "index": 205
        },
        {
         "0": "46.5",
         "1": "14.4",
         "2": "217.0",
         "3": "4900.0",
         "4": "1",
         "index": 206
        },
        {
         "0": "45.0",
         "1": "15.4",
         "2": "220.0",
         "3": "5050.0",
         "4": "1",
         "index": 207
        },
        {
         "0": "43.8",
         "1": "13.9",
         "2": "208.0",
         "3": "4300.0",
         "4": "1",
         "index": 208
        },
        {
         "0": "45.5",
         "1": "15.0",
         "2": "220.0",
         "3": "5000.0",
         "4": "1",
         "index": 209
        },
        {
         "0": "43.2",
         "1": "14.5",
         "2": "208.0",
         "3": "4450.0",
         "4": "1",
         "index": 210
        },
        {
         "0": "50.4",
         "1": "15.3",
         "2": "224.0",
         "3": "5550.0",
         "4": "1",
         "index": 211
        },
        {
         "0": "45.3",
         "1": "13.8",
         "2": "208.0",
         "3": "4200.0",
         "4": "1",
         "index": 212
        },
        {
         "0": "46.2",
         "1": "14.9",
         "2": "221.0",
         "3": "5300.0",
         "4": "1",
         "index": 213
        },
        {
         "0": "45.7",
         "1": "13.9",
         "2": "214.0",
         "3": "4400.0",
         "4": "1",
         "index": 214
        },
        {
         "0": "54.3",
         "1": "15.7",
         "2": "231.0",
         "3": "5650.0",
         "4": "1",
         "index": 215
        },
        {
         "0": "45.8",
         "1": "14.2",
         "2": "219.0",
         "3": "4700.0",
         "4": "1",
         "index": 216
        },
        {
         "0": "49.8",
         "1": "16.8",
         "2": "230.0",
         "3": "5700.0",
         "4": "1",
         "index": 217
        },
        {
         "0": "46.2",
         "1": "14.4",
         "2": "214.0",
         "3": "4650.0",
         "4": "1",
         "index": 218
        },
        {
         "0": "49.5",
         "1": "16.2",
         "2": "229.0",
         "3": "5800.0",
         "4": "1",
         "index": 219
        },
        {
         "0": "43.5",
         "1": "14.2",
         "2": "220.0",
         "3": "4700.0",
         "4": "1",
         "index": 220
        },
        {
         "0": "50.7",
         "1": "15.0",
         "2": "223.0",
         "3": "5550.0",
         "4": "1",
         "index": 221
        },
        {
         "0": "47.7",
         "1": "15.0",
         "2": "216.0",
         "3": "4750.0",
         "4": "1",
         "index": 222
        },
        {
         "0": "46.4",
         "1": "15.6",
         "2": "221.0",
         "3": "5000.0",
         "4": "1",
         "index": 223
        },
        {
         "0": "48.2",
         "1": "15.6",
         "2": "221.0",
         "3": "5100.0",
         "4": "1",
         "index": 224
        },
        {
         "0": "46.5",
         "1": "14.8",
         "2": "217.0",
         "3": "5200.0",
         "4": "1",
         "index": 225
        },
        {
         "0": "46.4",
         "1": "15.0",
         "2": "216.0",
         "3": "4700.0",
         "4": "1",
         "index": 226
        },
        {
         "0": "48.6",
         "1": "16.0",
         "2": "230.0",
         "3": "5800.0",
         "4": "1",
         "index": 227
        },
        {
         "0": "47.5",
         "1": "14.2",
         "2": "209.0",
         "3": "4600.0",
         "4": "1",
         "index": 228
        },
        {
         "0": "51.1",
         "1": "16.3",
         "2": "220.0",
         "3": "6000.0",
         "4": "1",
         "index": 229
        },
        {
         "0": "45.2",
         "1": "13.8",
         "2": "215.0",
         "3": "4750.0",
         "4": "1",
         "index": 230
        },
        {
         "0": "45.2",
         "1": "16.4",
         "2": "223.0",
         "3": "5950.0",
         "4": "1",
         "index": 231
        },
        {
         "0": "49.1",
         "1": "14.5",
         "2": "212.0",
         "3": "4625.0",
         "4": "1",
         "index": 232
        },
        {
         "0": "52.5",
         "1": "15.6",
         "2": "221.0",
         "3": "5450.0",
         "4": "1",
         "index": 233
        },
        {
         "0": "47.4",
         "1": "14.6",
         "2": "212.0",
         "3": "4725.0",
         "4": "1",
         "index": 234
        },
        {
         "0": "50.0",
         "1": "15.9",
         "2": "224.0",
         "3": "5350.0",
         "4": "1",
         "index": 235
        },
        {
         "0": "44.9",
         "1": "13.8",
         "2": "212.0",
         "3": "4750.0",
         "4": "1",
         "index": 236
        },
        {
         "0": "50.8",
         "1": "17.3",
         "2": "228.0",
         "3": "5600.0",
         "4": "1",
         "index": 237
        },
        {
         "0": "43.4",
         "1": "14.4",
         "2": "218.0",
         "3": "4600.0",
         "4": "1",
         "index": 238
        },
        {
         "0": "51.3",
         "1": "14.2",
         "2": "218.0",
         "3": "5300.0",
         "4": "1",
         "index": 239
        },
        {
         "0": "47.5",
         "1": "14.0",
         "2": "212.0",
         "3": "4875.0",
         "4": "1",
         "index": 240
        },
        {
         "0": "52.1",
         "1": "17.0",
         "2": "230.0",
         "3": "5550.0",
         "4": "1",
         "index": 241
        },
        {
         "0": "47.5",
         "1": "15.0",
         "2": "218.0",
         "3": "4950.0",
         "4": "1",
         "index": 242
        },
        {
         "0": "52.2",
         "1": "17.1",
         "2": "228.0",
         "3": "5400.0",
         "4": "1",
         "index": 243
        },
        {
         "0": "45.5",
         "1": "14.5",
         "2": "212.0",
         "3": "4750.0",
         "4": "1",
         "index": 244
        },
        {
         "0": "49.5",
         "1": "16.1",
         "2": "224.0",
         "3": "5650.0",
         "4": "1",
         "index": 245
        },
        {
         "0": "44.5",
         "1": "14.7",
         "2": "214.0",
         "3": "4850.0",
         "4": "1",
         "index": 246
        },
        {
         "0": "50.8",
         "1": "15.7",
         "2": "226.0",
         "3": "5200.0",
         "4": "1",
         "index": 247
        },
        {
         "0": "49.4",
         "1": "15.8",
         "2": "216.0",
         "3": "4925.0",
         "4": "1",
         "index": 248
        },
        {
         "0": "46.9",
         "1": "14.6",
         "2": "222.0",
         "3": "4875.0",
         "4": "1",
         "index": 249
        },
        {
         "0": "48.4",
         "1": "14.4",
         "2": "203.0",
         "3": "4625.0",
         "4": "1",
         "index": 250
        },
        {
         "0": "51.1",
         "1": "16.5",
         "2": "225.0",
         "3": "5250.0",
         "4": "1",
         "index": 251
        },
        {
         "0": "48.5",
         "1": "15.0",
         "2": "219.0",
         "3": "4850.0",
         "4": "1",
         "index": 252
        },
        {
         "0": "55.9",
         "1": "17.0",
         "2": "228.0",
         "3": "5600.0",
         "4": "1",
         "index": 253
        },
        {
         "0": "47.2",
         "1": "15.5",
         "2": "215.0",
         "3": "4975.0",
         "4": "1",
         "index": 254
        },
        {
         "0": "49.1",
         "1": "15.0",
         "2": "228.0",
         "3": "5500.0",
         "4": "1",
         "index": 255
        },
        {
         "0": "47.3",
         "1": "13.8",
         "2": "216.0",
         "3": "4725.0",
         "4": "1",
         "index": 256
        },
        {
         "0": "46.8",
         "1": "16.1",
         "2": "215.0",
         "3": "5500.0",
         "4": "1",
         "index": 257
        },
        {
         "0": "41.7",
         "1": "14.7",
         "2": "210.0",
         "3": "4700.0",
         "4": "1",
         "index": 258
        },
        {
         "0": "53.4",
         "1": "15.8",
         "2": "219.0",
         "3": "5500.0",
         "4": "1",
         "index": 259
        },
        {
         "0": "43.3",
         "1": "14.0",
         "2": "208.0",
         "3": "4575.0",
         "4": "1",
         "index": 260
        },
        {
         "0": "48.1",
         "1": "15.1",
         "2": "209.0",
         "3": "5500.0",
         "4": "1",
         "index": 261
        },
        {
         "0": "50.5",
         "1": "15.2",
         "2": "216.0",
         "3": "5000.0",
         "4": "1",
         "index": 262
        },
        {
         "0": "49.8",
         "1": "15.9",
         "2": "229.0",
         "3": "5950.0",
         "4": "1",
         "index": 263
        },
        {
         "0": "43.5",
         "1": "15.2",
         "2": "213.0",
         "3": "4650.0",
         "4": "1",
         "index": 264
        },
        {
         "0": "51.5",
         "1": "16.3",
         "2": "230.0",
         "3": "5500.0",
         "4": "1",
         "index": 265
        },
        {
         "0": "46.2",
         "1": "14.1",
         "2": "217.0",
         "3": "4375.0",
         "4": "1",
         "index": 266
        },
        {
         "0": "55.1",
         "1": "16.0",
         "2": "230.0",
         "3": "5850.0",
         "4": "1",
         "index": 267
        },
        {
         "0": "44.5",
         "1": "15.7",
         "2": "217.0",
         "3": "4875.0",
         "4": "1",
         "index": 268
        },
        {
         "0": "48.8",
         "1": "16.2",
         "2": "222.0",
         "3": "6000.0",
         "4": "1",
         "index": 269
        },
        {
         "0": "47.2",
         "1": "13.7",
         "2": "214.0",
         "3": "4925.0",
         "4": "1",
         "index": 270
        },
        {
         "0": "46.8",
         "1": "14.3",
         "2": "215.0",
         "3": "4850.0",
         "4": "1",
         "index": 271
        },
        {
         "0": "50.4",
         "1": "15.7",
         "2": "222.0",
         "3": "5750.0",
         "4": "1",
         "index": 272
        },
        {
         "0": "45.2",
         "1": "14.8",
         "2": "212.0",
         "3": "5200.0",
         "4": "1",
         "index": 273
        },
        {
         "0": "49.9",
         "1": "16.1",
         "2": "213.0",
         "3": "5400.0",
         "4": "1",
         "index": 274
        },
        {
         "0": "46.5",
         "1": "17.9",
         "2": "192.0",
         "3": "3500.0",
         "4": "2",
         "index": 275
        },
        {
         "0": "50.0",
         "1": "19.5",
         "2": "196.0",
         "3": "3900.0",
         "4": "2",
         "index": 276
        },
        {
         "0": "51.3",
         "1": "19.2",
         "2": "193.0",
         "3": "3650.0",
         "4": "2",
         "index": 277
        },
        {
         "0": "45.4",
         "1": "18.7",
         "2": "188.0",
         "3": "3525.0",
         "4": "2",
         "index": 278
        },
        {
         "0": "52.7",
         "1": "19.8",
         "2": "197.0",
         "3": "3725.0",
         "4": "2",
         "index": 279
        },
        {
         "0": "45.2",
         "1": "17.8",
         "2": "198.0",
         "3": "3950.0",
         "4": "2",
         "index": 280
        },
        {
         "0": "46.1",
         "1": "18.2",
         "2": "178.0",
         "3": "3250.0",
         "4": "2",
         "index": 281
        },
        {
         "0": "51.3",
         "1": "18.2",
         "2": "197.0",
         "3": "3750.0",
         "4": "2",
         "index": 282
        },
        {
         "0": "46.0",
         "1": "18.9",
         "2": "195.0",
         "3": "4150.0",
         "4": "2",
         "index": 283
        },
        {
         "0": "51.3",
         "1": "19.9",
         "2": "198.0",
         "3": "3700.0",
         "4": "2",
         "index": 284
        },
        {
         "0": "46.6",
         "1": "17.8",
         "2": "193.0",
         "3": "3800.0",
         "4": "2",
         "index": 285
        },
        {
         "0": "51.7",
         "1": "20.3",
         "2": "194.0",
         "3": "3775.0",
         "4": "2",
         "index": 286
        },
        {
         "0": "47.0",
         "1": "17.3",
         "2": "185.0",
         "3": "3700.0",
         "4": "2",
         "index": 287
        },
        {
         "0": "52.0",
         "1": "18.1",
         "2": "201.0",
         "3": "4050.0",
         "4": "2",
         "index": 288
        },
        {
         "0": "45.9",
         "1": "17.1",
         "2": "190.0",
         "3": "3575.0",
         "4": "2",
         "index": 289
        },
        {
         "0": "50.5",
         "1": "19.6",
         "2": "201.0",
         "3": "4050.0",
         "4": "2",
         "index": 290
        },
        {
         "0": "50.3",
         "1": "20.0",
         "2": "197.0",
         "3": "3300.0",
         "4": "2",
         "index": 291
        },
        {
         "0": "58.0",
         "1": "17.8",
         "2": "181.0",
         "3": "3700.0",
         "4": "2",
         "index": 292
        },
        {
         "0": "46.4",
         "1": "18.6",
         "2": "190.0",
         "3": "3450.0",
         "4": "2",
         "index": 293
        },
        {
         "0": "49.2",
         "1": "18.2",
         "2": "195.0",
         "3": "4400.0",
         "4": "2",
         "index": 294
        },
        {
         "0": "42.4",
         "1": "17.3",
         "2": "181.0",
         "3": "3600.0",
         "4": "2",
         "index": 295
        },
        {
         "0": "48.5",
         "1": "17.5",
         "2": "191.0",
         "3": "3400.0",
         "4": "2",
         "index": 296
        },
        {
         "0": "43.2",
         "1": "16.6",
         "2": "187.0",
         "3": "2900.0",
         "4": "2",
         "index": 297
        },
        {
         "0": "50.6",
         "1": "19.4",
         "2": "193.0",
         "3": "3800.0",
         "4": "2",
         "index": 298
        },
        {
         "0": "46.7",
         "1": "17.9",
         "2": "195.0",
         "3": "3300.0",
         "4": "2",
         "index": 299
        },
        {
         "0": "52.0",
         "1": "19.0",
         "2": "197.0",
         "3": "4150.0",
         "4": "2",
         "index": 300
        },
        {
         "0": "50.5",
         "1": "18.4",
         "2": "200.0",
         "3": "3400.0",
         "4": "2",
         "index": 301
        },
        {
         "0": "49.5",
         "1": "19.0",
         "2": "200.0",
         "3": "3800.0",
         "4": "2",
         "index": 302
        },
        {
         "0": "46.4",
         "1": "17.8",
         "2": "191.0",
         "3": "3700.0",
         "4": "2",
         "index": 303
        },
        {
         "0": "52.8",
         "1": "20.0",
         "2": "205.0",
         "3": "4550.0",
         "4": "2",
         "index": 304
        },
        {
         "0": "40.9",
         "1": "16.6",
         "2": "187.0",
         "3": "3200.0",
         "4": "2",
         "index": 305
        },
        {
         "0": "54.2",
         "1": "20.8",
         "2": "201.0",
         "3": "4300.0",
         "4": "2",
         "index": 306
        },
        {
         "0": "42.5",
         "1": "16.7",
         "2": "187.0",
         "3": "3350.0",
         "4": "2",
         "index": 307
        },
        {
         "0": "51.0",
         "1": "18.8",
         "2": "203.0",
         "3": "4100.0",
         "4": "2",
         "index": 308
        },
        {
         "0": "49.7",
         "1": "18.6",
         "2": "195.0",
         "3": "3600.0",
         "4": "2",
         "index": 309
        },
        {
         "0": "47.5",
         "1": "16.8",
         "2": "199.0",
         "3": "3900.0",
         "4": "2",
         "index": 310
        },
        {
         "0": "47.6",
         "1": "18.3",
         "2": "195.0",
         "3": "3850.0",
         "4": "2",
         "index": 311
        },
        {
         "0": "52.0",
         "1": "20.7",
         "2": "210.0",
         "3": "4800.0",
         "4": "2",
         "index": 312
        },
        {
         "0": "46.9",
         "1": "16.6",
         "2": "192.0",
         "3": "2700.0",
         "4": "2",
         "index": 313
        },
        {
         "0": "53.5",
         "1": "19.9",
         "2": "205.0",
         "3": "4500.0",
         "4": "2",
         "index": 314
        },
        {
         "0": "49.0",
         "1": "19.5",
         "2": "210.0",
         "3": "3950.0",
         "4": "2",
         "index": 315
        },
        {
         "0": "46.2",
         "1": "17.5",
         "2": "187.0",
         "3": "3650.0",
         "4": "2",
         "index": 316
        },
        {
         "0": "50.9",
         "1": "19.1",
         "2": "196.0",
         "3": "3550.0",
         "4": "2",
         "index": 317
        },
        {
         "0": "45.5",
         "1": "17.0",
         "2": "196.0",
         "3": "3500.0",
         "4": "2",
         "index": 318
        },
        {
         "0": "50.9",
         "1": "17.9",
         "2": "196.0",
         "3": "3675.0",
         "4": "2",
         "index": 319
        },
        {
         "0": "50.8",
         "1": "18.5",
         "2": "201.0",
         "3": "4450.0",
         "4": "2",
         "index": 320
        },
        {
         "0": "50.1",
         "1": "17.9",
         "2": "190.0",
         "3": "3400.0",
         "4": "2",
         "index": 321
        },
        {
         "0": "49.0",
         "1": "19.6",
         "2": "212.0",
         "3": "4300.0",
         "4": "2",
         "index": 322
        },
        {
         "0": "51.5",
         "1": "18.7",
         "2": "187.0",
         "3": "3250.0",
         "4": "2",
         "index": 323
        },
        {
         "0": "49.8",
         "1": "17.3",
         "2": "198.0",
         "3": "3675.0",
         "4": "2",
         "index": 324
        },
        {
         "0": "48.1",
         "1": "16.4",
         "2": "199.0",
         "3": "3325.0",
         "4": "2",
         "index": 325
        },
        {
         "0": "51.4",
         "1": "19.0",
         "2": "201.0",
         "3": "3950.0",
         "4": "2",
         "index": 326
        },
        {
         "0": "45.7",
         "1": "17.3",
         "2": "193.0",
         "3": "3600.0",
         "4": "2",
         "index": 327
        },
        {
         "0": "50.7",
         "1": "19.7",
         "2": "203.0",
         "3": "4050.0",
         "4": "2",
         "index": 328
        },
        {
         "0": "42.5",
         "1": "17.3",
         "2": "187.0",
         "3": "3350.0",
         "4": "2",
         "index": 329
        },
        {
         "0": "52.2",
         "1": "18.8",
         "2": "197.0",
         "3": "3450.0",
         "4": "2",
         "index": 330
        },
        {
         "0": "45.2",
         "1": "16.6",
         "2": "191.0",
         "3": "3250.0",
         "4": "2",
         "index": 331
        },
        {
         "0": "49.3",
         "1": "19.9",
         "2": "203.0",
         "3": "4050.0",
         "4": "2",
         "index": 332
        },
        {
         "0": "50.2",
         "1": "18.8",
         "2": "202.0",
         "3": "3800.0",
         "4": "2",
         "index": 333
        },
        {
         "0": "45.6",
         "1": "19.4",
         "2": "194.0",
         "3": "3525.0",
         "4": "2",
         "index": 334
        },
        {
         "0": "51.9",
         "1": "19.5",
         "2": "206.0",
         "3": "3950.0",
         "4": "2",
         "index": 335
        },
        {
         "0": "46.8",
         "1": "16.5",
         "2": "189.0",
         "3": "3650.0",
         "4": "2",
         "index": 336
        },
        {
         "0": "45.7",
         "1": "17.0",
         "2": "195.0",
         "3": "3650.0",
         "4": "2",
         "index": 337
        },
        {
         "0": "55.8",
         "1": "19.8",
         "2": "207.0",
         "3": "4000.0",
         "4": "2",
         "index": 338
        },
        {
         "0": "43.5",
         "1": "18.1",
         "2": "202.0",
         "3": "3400.0",
         "4": "2",
         "index": 339
        },
        {
         "0": "49.6",
         "1": "18.2",
         "2": "193.0",
         "3": "3775.0",
         "4": "2",
         "index": 340
        },
        {
         "0": "50.8",
         "1": "19.0",
         "2": "210.0",
         "3": "4100.0",
         "4": "2",
         "index": 341
        },
        {
         "0": "50.2",
         "1": "18.7",
         "2": "198.0",
         "3": "3775.0",
         "4": "2",
         "index": 342
        }
       ],
       "schema": [
        {
         "key": "0",
         "name": "CulmenLength",
         "type": "float"
        },
        {
         "key": "1",
         "name": "CulmenDepth",
         "type": "float"
        },
        {
         "key": "2",
         "name": "FlipperLength",
         "type": "float"
        },
        {
         "key": "3",
         "name": "BodyMass",
         "type": "float"
        },
        {
         "key": "4",
         "name": "Species",
         "type": "int"
        }
       ],
       "truncated": false
      }
     },
     "type": "Synapse.DataFrame"
    }
   },
   "version": "0.1"
  },
  "trident": {
   "lakehouse": {
    "default_lakehouse": "a16d4cad-43a1-4d00-8371-bb137439faf1",
    "default_lakehouse_name": "datalake",
    "default_lakehouse_workspace_id": "914cf139-e9fa-48a3-9895-129f99dbb6fd",
    "known_lakehouses": [
     {
      "id": "a16d4cad-43a1-4d00-8371-bb137439faf1"
     }
    ]
   }
  },
  "widgets": {}
 },
 "nbformat": 4,
 "nbformat_minor": 0
}
